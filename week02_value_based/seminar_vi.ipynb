{
 "cells": [
  {
   "cell_type": "markdown",
   "metadata": {},
   "source": [
    "### Markov decision process\n",
    "\n",
    "This week's methods are all built to solve __M__arkov __D__ecision __P__rocesses. In the broadest sense, an MDP is defined by how it changes states and how rewards are computed.\n",
    "\n",
    "State transition is defined by $P(s' |s,a)$ - how likely are you to end at state $s'$ if you take action $a$ from state $s$. Now there's more than one way to define rewards, but we'll use $r(s,a,s')$ function for convenience.\n",
    "\n",
    "_This notebook is inspired by the awesome_ [CS294](https://github.com/berkeleydeeprlcourse/homework/blob/36a0b58261acde756abd55306fbe63df226bf62b/hw2/HW2.ipynb) _by Berkeley_"
   ]
  },
  {
   "cell_type": "markdown",
   "metadata": {},
   "source": [
    "For starters, let's define a simple MDP from this picture:\n",
    "\n",
    "<img src=\"https://upload.wikimedia.org/wikipedia/commons/a/ad/Markov_Decision_Process.svg\" width=\"400px\" alt=\"Diagram by Waldoalvarez via Wikimedia Commons, CC BY-SA 4.0\"/>"
   ]
  },
  {
   "cell_type": "code",
   "execution_count": 1,
   "metadata": {},
   "outputs": [],
   "source": [
    "# If you Colab, uncomment this please\n",
    "# !wget -q https://raw.githubusercontent.com/yandexdataschool/Practical_RL/master/week02_value_based/mdp.py\n",
    "\n",
    "transition_probs = {\n",
    "    's0': {\n",
    "        'a0': {'s0': 0.5, 's2': 0.5},\n",
    "        'a1': {'s2': 1}\n",
    "    },\n",
    "    's1': {\n",
    "        'a0': {'s0': 0.7, 's1': 0.1, 's2': 0.2},\n",
    "        'a1': {'s1': 0.95, 's2': 0.05}\n",
    "    },\n",
    "    's2': {\n",
    "        'a0': {'s0': 0.4, 's2': 0.6},\n",
    "        'a1': {'s0': 0.3, 's1': 0.3, 's2': 0.4}\n",
    "    }\n",
    "}\n",
    "rewards = {\n",
    "    's1': {'a0': {'s0': +5}},\n",
    "    's2': {'a1': {'s0': -1}}\n",
    "}\n",
    "\n",
    "from mdp import MDP\n",
    "mdp = MDP(transition_probs, rewards, initial_state='s0')"
   ]
  },
  {
   "cell_type": "markdown",
   "metadata": {},
   "source": [
    "We can now use MDP just as any other gym environment:"
   ]
  },
  {
   "cell_type": "code",
   "execution_count": 2,
   "metadata": {},
   "outputs": [
    {
     "name": "stdout",
     "output_type": "stream",
     "text": [
      "initial state = s0\n",
      "next_state = s2, reward = 0.0, done = False\n"
     ]
    }
   ],
   "source": [
    "print('initial state =', mdp.reset())\n",
    "next_state, reward, done, info = mdp.step('a1')\n",
    "print('next_state = %s, reward = %s, done = %s' % (next_state, reward, done))"
   ]
  },
  {
   "cell_type": "markdown",
   "metadata": {},
   "source": [
    "but it also has other methods that you'll need for Value Iteration"
   ]
  },
  {
   "cell_type": "code",
   "execution_count": 3,
   "metadata": {},
   "outputs": [
    {
     "name": "stdout",
     "output_type": "stream",
     "text": [
      "mdp.get_all_states = ('s0', 's1', 's2')\n",
      "mdp.get_possible_actions('s1') =  ('a0', 'a1')\n",
      "mdp.get_next_states('s1', 'a0') =  {'s0': 0.7, 's1': 0.1, 's2': 0.2}\n",
      "mdp.get_reward('s1', 'a0', 's0') =  5\n",
      "mdp.get_transition_prob('s1', 'a0', 's0') =  0.7\n"
     ]
    }
   ],
   "source": [
    "print(\"mdp.get_all_states =\", mdp.get_all_states())\n",
    "print(\"mdp.get_possible_actions('s1') = \", mdp.get_possible_actions('s1'))\n",
    "print(\"mdp.get_next_states('s1', 'a0') = \", mdp.get_next_states('s1', 'a0'))\n",
    "print(\"mdp.get_reward('s1', 'a0', 's0') = \", mdp.get_reward('s1', 'a0', 's0'))\n",
    "print(\"mdp.get_transition_prob('s1', 'a0', 's0') = \",\n",
    "      mdp.get_transition_prob('s1', 'a0', 's0'))"
   ]
  },
  {
   "cell_type": "markdown",
   "metadata": {},
   "source": [
    "### Optional: Visualizing MDPs\n",
    "\n",
    "You can also visualize any MDP with the drawing fuction donated by [neer201](https://github.com/neer201).\n",
    "\n",
    "You have to install graphviz for system and for python. For ubuntu just run:\n",
    "\n",
    "1. `sudo apt-get install graphviz`\n",
    "2. `pip install graphviz`\n",
    "3. restart the notebook\n",
    "\n",
    "__Note:__ Installing graphviz on some OS (esp. Windows) may be tricky. However, you can ignore this part alltogether and use the standart vizualization."
   ]
  },
  {
   "cell_type": "code",
   "execution_count": 4,
   "metadata": {},
   "outputs": [],
   "source": [
    "has_graphviz = False"
   ]
  },
  {
   "cell_type": "code",
   "execution_count": 5,
   "metadata": {},
   "outputs": [],
   "source": [
    "if has_graphviz:\n",
    "    from mdp import plot_graph, plot_graph_with_state_values, \\\n",
    "        plot_graph_optimal_strategy_and_state_values\n",
    "\n",
    "    display(plot_graph(mdp))"
   ]
  },
  {
   "cell_type": "markdown",
   "metadata": {},
   "source": [
    "### Value Iteration\n",
    "\n",
    "Now let's build something to solve this MDP. The simplest algorithm so far is __V__alue __I__teration\n",
    "\n",
    "Here's the pseudo-code for VI:\n",
    "\n",
    "---\n",
    "\n",
    "`1.` Initialize $V^{(0)}(s)=0$, for all $s$\n",
    "\n",
    "`2.` For $i=0, 1, 2, \\dots$\n",
    " \n",
    "`3.` $ \\quad V_{(i+1)}(s) = \\max_a \\sum_{s'} P(s' | s,a) \\cdot [ r(s,a,s') + \\gamma V_{i}(s')]$, for all $s$\n",
    "\n",
    "---"
   ]
  },
  {
   "cell_type": "markdown",
   "metadata": {},
   "source": [
    "First, let's write a function to compute the state-action value function $Q^{\\pi}$, defined as follows\n",
    "\n",
    "$$Q_i(s, a) = \\sum_{s'} P(s' | s,a) \\cdot [ r(s,a,s') + \\gamma V_{i}(s')]$$\n"
   ]
  },
  {
   "cell_type": "code",
   "execution_count": 6,
   "metadata": {},
   "outputs": [
    {
     "name": "stdout",
     "output_type": "stream",
     "text": [
      "Overwriting mdp_get_action_value.py\n"
     ]
    }
   ],
   "source": [
    "%%writefile mdp_get_action_value.py\n",
    "\n",
    "def get_action_value(mdp, state_values, state, action, gamma):\n",
    "    \"\"\" Computes Q(s,a) as in formula above \"\"\"\n",
    "    result = 0\n",
    "    for to_state in mdp.get_all_states():\n",
    "        transition_probability = mdp.get_transition_prob(state, action, to_state)\n",
    "        reward = mdp.get_reward(state, action, to_state)\n",
    "        result += transition_probability * (reward + gamma * state_values[to_state])\n",
    "    return result"
   ]
  },
  {
   "cell_type": "code",
   "execution_count": 7,
   "metadata": {},
   "outputs": [],
   "source": [
    "from mdp_get_action_value import get_action_value"
   ]
  },
  {
   "cell_type": "code",
   "execution_count": 8,
   "metadata": {},
   "outputs": [],
   "source": [
    "import numpy as np\n",
    "test_Vs = {s: i for i, s in enumerate(sorted(mdp.get_all_states()))}\n",
    "assert np.isclose(get_action_value(mdp, test_Vs, 's2', 'a1', 0.9), 0.69)\n",
    "assert np.isclose(get_action_value(mdp, test_Vs, 's1', 'a0', 0.9), 3.95)"
   ]
  },
  {
   "cell_type": "markdown",
   "metadata": {},
   "source": [
    "Using $Q(s,a)$ we can now define the \"next\" V(s) for value iteration.\n",
    " $$V_{(i+1)}(s) = \\max_a \\sum_{s'} P(s' | s,a) \\cdot [ r(s,a,s') + \\gamma V_{i}(s')] = \\max_a Q_i(s,a)$$"
   ]
  },
  {
   "cell_type": "code",
   "execution_count": 9,
   "metadata": {},
   "outputs": [],
   "source": [
    "def get_new_state_value(mdp, state_values, state, gamma):\n",
    "    \"\"\" Computes next V(s) as in formula above. Please do not change state_values in process. \"\"\"\n",
    "    if mdp.is_terminal(state):\n",
    "        return 0\n",
    "    result = None\n",
    "    for action in mdp.get_possible_actions(state):\n",
    "        action_value = get_action_value(mdp, state_values, state, action, gamma)\n",
    "        if result == None or result < action_value:\n",
    "            result = action_value\n",
    "    return result"
   ]
  },
  {
   "cell_type": "code",
   "execution_count": 10,
   "metadata": {},
   "outputs": [],
   "source": [
    "test_Vs_copy = dict(test_Vs)\n",
    "assert np.isclose(get_new_state_value(mdp, test_Vs, 's0', 0.9), 1.8)\n",
    "assert np.isclose(get_new_state_value(mdp, test_Vs, 's2', 0.9), 1.08)\n",
    "assert test_Vs == test_Vs_copy, \"please do not change state_values in get_new_state_value\""
   ]
  },
  {
   "cell_type": "markdown",
   "metadata": {},
   "source": [
    "Finally, let's combine everything we wrote into a working value iteration algo."
   ]
  },
  {
   "cell_type": "code",
   "execution_count": 16,
   "metadata": {},
   "outputs": [],
   "source": [
    "def value_iteration(mdp, num_iter, gamma, min_difference):\n",
    "    # initialize V(s)\n",
    "    state_values = {s: 0 for s in mdp.get_all_states()}\n",
    "\n",
    "    for i in range(num_iter):\n",
    "\n",
    "        # Compute new state values using the functions you defined above.\n",
    "        # It must be a dict {state : float V_new(state)}\n",
    "        new_state_values = {state : get_new_state_value(mdp, state_values, state, gamma) for state in mdp.get_all_states()}\n",
    "\n",
    "        assert isinstance(new_state_values, dict)\n",
    "\n",
    "        # Compute difference\n",
    "        diff = max(abs(new_state_values[s] - state_values[s])\n",
    "                   for s in mdp.get_all_states())\n",
    "        print(\"iter %4i   |   diff: %6.5f   |   \" % (i, diff), end=\"\")\n",
    "        print('   '.join(\"V(%s) = %.3f\" % (s, v) for s, v in state_values.items()))\n",
    "        state_values = new_state_values\n",
    "\n",
    "        if diff < min_difference:\n",
    "            print(\"Terminated\")\n",
    "            break\n",
    "    return state_values"
   ]
  },
  {
   "cell_type": "code",
   "execution_count": 17,
   "metadata": {},
   "outputs": [
    {
     "name": "stdout",
     "output_type": "stream",
     "text": [
      "iter    0   |   diff: 3.50000   |   V(s0) = 0.000   V(s1) = 0.000   V(s2) = 0.000\n",
      "iter    1   |   diff: 0.64500   |   V(s0) = 0.000   V(s1) = 3.500   V(s2) = 0.000\n",
      "iter    2   |   diff: 0.58050   |   V(s0) = 0.000   V(s1) = 3.815   V(s2) = 0.645\n",
      "iter    3   |   diff: 0.43582   |   V(s0) = 0.581   V(s1) = 3.959   V(s2) = 0.962\n",
      "iter    4   |   diff: 0.30634   |   V(s0) = 0.866   V(s1) = 4.395   V(s2) = 1.272\n",
      "iter    5   |   diff: 0.27571   |   V(s0) = 1.145   V(s1) = 4.670   V(s2) = 1.579\n",
      "iter    6   |   diff: 0.24347   |   V(s0) = 1.421   V(s1) = 4.926   V(s2) = 1.838\n",
      "iter    7   |   diff: 0.21419   |   V(s0) = 1.655   V(s1) = 5.169   V(s2) = 2.075\n",
      "iter    8   |   diff: 0.19277   |   V(s0) = 1.868   V(s1) = 5.381   V(s2) = 2.290\n",
      "iter    9   |   diff: 0.17327   |   V(s0) = 2.061   V(s1) = 5.573   V(s2) = 2.481\n",
      "iter   10   |   diff: 0.15569   |   V(s0) = 2.233   V(s1) = 5.746   V(s2) = 2.654\n",
      "iter   11   |   diff: 0.14012   |   V(s0) = 2.389   V(s1) = 5.902   V(s2) = 2.810\n",
      "iter   12   |   diff: 0.12610   |   V(s0) = 2.529   V(s1) = 6.042   V(s2) = 2.950\n",
      "iter   13   |   diff: 0.11348   |   V(s0) = 2.655   V(s1) = 6.168   V(s2) = 3.076\n",
      "iter   14   |   diff: 0.10213   |   V(s0) = 2.769   V(s1) = 6.282   V(s2) = 3.190\n",
      "iter   15   |   diff: 0.09192   |   V(s0) = 2.871   V(s1) = 6.384   V(s2) = 3.292\n",
      "iter   16   |   diff: 0.08272   |   V(s0) = 2.963   V(s1) = 6.476   V(s2) = 3.384\n",
      "iter   17   |   diff: 0.07445   |   V(s0) = 3.045   V(s1) = 6.558   V(s2) = 3.467\n",
      "iter   18   |   diff: 0.06701   |   V(s0) = 3.120   V(s1) = 6.633   V(s2) = 3.541\n",
      "iter   19   |   diff: 0.06031   |   V(s0) = 3.187   V(s1) = 6.700   V(s2) = 3.608\n",
      "iter   20   |   diff: 0.05428   |   V(s0) = 3.247   V(s1) = 6.760   V(s2) = 3.668\n",
      "iter   21   |   diff: 0.04885   |   V(s0) = 3.301   V(s1) = 6.814   V(s2) = 3.723\n",
      "iter   22   |   diff: 0.04396   |   V(s0) = 3.350   V(s1) = 6.863   V(s2) = 3.771\n",
      "iter   23   |   diff: 0.03957   |   V(s0) = 3.394   V(s1) = 6.907   V(s2) = 3.815\n",
      "iter   24   |   diff: 0.03561   |   V(s0) = 3.434   V(s1) = 6.947   V(s2) = 3.855\n",
      "iter   25   |   diff: 0.03205   |   V(s0) = 3.469   V(s1) = 6.982   V(s2) = 3.891\n",
      "iter   26   |   diff: 0.02884   |   V(s0) = 3.502   V(s1) = 7.014   V(s2) = 3.923\n",
      "iter   27   |   diff: 0.02596   |   V(s0) = 3.530   V(s1) = 7.043   V(s2) = 3.951\n",
      "iter   28   |   diff: 0.02336   |   V(s0) = 3.556   V(s1) = 7.069   V(s2) = 3.977\n",
      "iter   29   |   diff: 0.02103   |   V(s0) = 3.580   V(s1) = 7.093   V(s2) = 4.001\n",
      "iter   30   |   diff: 0.01892   |   V(s0) = 3.601   V(s1) = 7.114   V(s2) = 4.022\n",
      "iter   31   |   diff: 0.01703   |   V(s0) = 3.620   V(s1) = 7.133   V(s2) = 4.041\n",
      "iter   32   |   diff: 0.01533   |   V(s0) = 3.637   V(s1) = 7.150   V(s2) = 4.058\n",
      "iter   33   |   diff: 0.01380   |   V(s0) = 3.652   V(s1) = 7.165   V(s2) = 4.073\n",
      "iter   34   |   diff: 0.01242   |   V(s0) = 3.666   V(s1) = 7.179   V(s2) = 4.087\n",
      "iter   35   |   diff: 0.01117   |   V(s0) = 3.678   V(s1) = 7.191   V(s2) = 4.099\n",
      "iter   36   |   diff: 0.01006   |   V(s0) = 3.689   V(s1) = 7.202   V(s2) = 4.110\n",
      "iter   37   |   diff: 0.00905   |   V(s0) = 3.699   V(s1) = 7.212   V(s2) = 4.121\n",
      "iter   38   |   diff: 0.00815   |   V(s0) = 3.708   V(s1) = 7.221   V(s2) = 4.130\n",
      "iter   39   |   diff: 0.00733   |   V(s0) = 3.717   V(s1) = 7.230   V(s2) = 4.138\n",
      "iter   40   |   diff: 0.00660   |   V(s0) = 3.724   V(s1) = 7.237   V(s2) = 4.145\n",
      "iter   41   |   diff: 0.00594   |   V(s0) = 3.731   V(s1) = 7.244   V(s2) = 4.152\n",
      "iter   42   |   diff: 0.00534   |   V(s0) = 3.736   V(s1) = 7.249   V(s2) = 4.158\n",
      "iter   43   |   diff: 0.00481   |   V(s0) = 3.742   V(s1) = 7.255   V(s2) = 4.163\n",
      "iter   44   |   diff: 0.00433   |   V(s0) = 3.747   V(s1) = 7.260   V(s2) = 4.168\n",
      "iter   45   |   diff: 0.00390   |   V(s0) = 3.751   V(s1) = 7.264   V(s2) = 4.172\n",
      "iter   46   |   diff: 0.00351   |   V(s0) = 3.755   V(s1) = 7.268   V(s2) = 4.176\n",
      "iter   47   |   diff: 0.00316   |   V(s0) = 3.758   V(s1) = 7.271   V(s2) = 4.179\n",
      "iter   48   |   diff: 0.00284   |   V(s0) = 3.762   V(s1) = 7.275   V(s2) = 4.183\n",
      "iter   49   |   diff: 0.00256   |   V(s0) = 3.764   V(s1) = 7.277   V(s2) = 4.185\n",
      "iter   50   |   diff: 0.00230   |   V(s0) = 3.767   V(s1) = 7.280   V(s2) = 4.188\n",
      "iter   51   |   diff: 0.00207   |   V(s0) = 3.769   V(s1) = 7.282   V(s2) = 4.190\n",
      "iter   52   |   diff: 0.00186   |   V(s0) = 3.771   V(s1) = 7.284   V(s2) = 4.192\n",
      "iter   53   |   diff: 0.00168   |   V(s0) = 3.773   V(s1) = 7.286   V(s2) = 4.194\n",
      "iter   54   |   diff: 0.00151   |   V(s0) = 3.775   V(s1) = 7.288   V(s2) = 4.196\n",
      "iter   55   |   diff: 0.00136   |   V(s0) = 3.776   V(s1) = 7.289   V(s2) = 4.197\n",
      "iter   56   |   diff: 0.00122   |   V(s0) = 3.778   V(s1) = 7.291   V(s2) = 4.199\n",
      "iter   57   |   diff: 0.00110   |   V(s0) = 3.779   V(s1) = 7.292   V(s2) = 4.200\n",
      "iter   58   |   diff: 0.00099   |   V(s0) = 3.780   V(s1) = 7.293   V(s2) = 4.201\n",
      "Terminated\n"
     ]
    }
   ],
   "source": [
    "gamma = 0.9            # discount for MDP\n",
    "num_iter = 100         # maximum iterations, excluding initialization\n",
    "# stop VI if new values are this close to old values (or closer)\n",
    "min_difference = 0.001\n",
    "\n",
    "state_values = value_iteration(mdp, num_iter, gamma, min_difference)"
   ]
  },
  {
   "cell_type": "code",
   "execution_count": 18,
   "metadata": {},
   "outputs": [],
   "source": [
    "if has_graphviz:\n",
    "    display(plot_graph_with_state_values(mdp, state_values))"
   ]
  },
  {
   "cell_type": "code",
   "execution_count": 19,
   "metadata": {},
   "outputs": [
    {
     "name": "stdout",
     "output_type": "stream",
     "text": [
      "Final state values: {'s0': 3.7810348735476405, 's1': 7.294006423867229, 's2': 4.202140275227048}\n"
     ]
    }
   ],
   "source": [
    "print(\"Final state values:\", state_values)\n",
    "\n",
    "assert abs(state_values['s0'] - 3.781) < 0.01\n",
    "assert abs(state_values['s1'] - 7.294) < 0.01\n",
    "assert abs(state_values['s2'] - 4.202) < 0.01"
   ]
  },
  {
   "cell_type": "markdown",
   "metadata": {},
   "source": [
    "Now let's use those $V^{*}(s)$ to find optimal actions in each state\n",
    "\n",
    " $$\\pi^*(s) = argmax_a \\sum_{s'} P(s' | s,a) \\cdot [ r(s,a,s') + \\gamma V_{i}(s')] = argmax_a Q_i(s,a)$$\n",
    " \n",
    "The only difference vs V(s) is that here we take not max but argmax: find action such with maximum Q(s,a)."
   ]
  },
  {
   "cell_type": "code",
   "execution_count": 20,
   "metadata": {},
   "outputs": [],
   "source": [
    "def get_optimal_action(mdp, state_values, state, gamma=0.9):\n",
    "    \"\"\" Finds optimal action using formula above. \"\"\"\n",
    "    if mdp.is_terminal(state):\n",
    "        return None\n",
    "    result = None\n",
    "    resulted_action = None\n",
    "    for action in mdp.get_possible_actions(state):\n",
    "        action_value = get_action_value(mdp, state_values, state, action, gamma)\n",
    "        if result == None or result < action_value:\n",
    "            result = action_value\n",
    "            resulted_action = action\n",
    "    return resulted_action"
   ]
  },
  {
   "cell_type": "code",
   "execution_count": 21,
   "metadata": {},
   "outputs": [],
   "source": [
    "assert get_optimal_action(mdp, state_values, 's0', gamma) == 'a1'\n",
    "assert get_optimal_action(mdp, state_values, 's1', gamma) == 'a0'\n",
    "assert get_optimal_action(mdp, state_values, 's2', gamma) == 'a1'"
   ]
  },
  {
   "cell_type": "code",
   "execution_count": 22,
   "metadata": {},
   "outputs": [],
   "source": [
    "if has_graphviz:\n",
    "    try:\n",
    "        display(plot_graph_optimal_strategy_and_state_values(mdp, state_values))\n",
    "    except ImportError:\n",
    "        raise ImportError(\"Run the cell that starts with \\\"%%writefile mdp_get_action_value.py\\\"\")"
   ]
  },
  {
   "cell_type": "code",
   "execution_count": 23,
   "metadata": {},
   "outputs": [
    {
     "name": "stdout",
     "output_type": "stream",
     "text": [
      "average reward:  0.4547\n"
     ]
    }
   ],
   "source": [
    "# Measure agent's average reward\n",
    "\n",
    "s = mdp.reset()\n",
    "rewards = []\n",
    "for _ in range(10000):\n",
    "    s, r, done, _ = mdp.step(get_optimal_action(mdp, state_values, s, gamma))\n",
    "    rewards.append(r)\n",
    "\n",
    "print(\"average reward: \", np.mean(rewards))\n",
    "\n",
    "assert(0.40 < np.mean(rewards) < 0.55)"
   ]
  },
  {
   "cell_type": "markdown",
   "metadata": {},
   "source": [
    "### Frozen lake"
   ]
  },
  {
   "cell_type": "code",
   "execution_count": 24,
   "metadata": {},
   "outputs": [
    {
     "name": "stdout",
     "output_type": "stream",
     "text": [
      "*FFF\n",
      "FHFH\n",
      "FFFH\n",
      "HFFG\n",
      "\n"
     ]
    }
   ],
   "source": [
    "from mdp import FrozenLakeEnv\n",
    "mdp = FrozenLakeEnv(slip_chance=0)\n",
    "\n",
    "mdp.render()"
   ]
  },
  {
   "cell_type": "code",
   "execution_count": 25,
   "metadata": {},
   "outputs": [],
   "source": [
    "def value_iteration(mdp, state_values=None, gamma=0.9, num_iter=1000, min_difference=1e-5):\n",
    "    \"\"\" performs num_iter value iteration steps starting from state_values. Same as before but in a function \"\"\"\n",
    "    state_values = state_values or {s: 0 for s in mdp.get_all_states()}\n",
    "    for i in range(num_iter):\n",
    "\n",
    "        # Compute new state values using the functions you defined above. It must be a dict {state : new_V(state)}\n",
    "        new_state_values = {state : get_new_state_value(mdp, state_values, state, gamma) for state in mdp.get_all_states()}\n",
    "\n",
    "        assert isinstance(new_state_values, dict)\n",
    "\n",
    "        # Compute difference\n",
    "        diff = max(abs(new_state_values[s] - state_values[s])\n",
    "                   for s in mdp.get_all_states())\n",
    "\n",
    "        print(\"iter %4i   |   diff: %6.5f   |   V(start): %.3f \" %\n",
    "              (i, diff, new_state_values[mdp._initial_state]))\n",
    "\n",
    "        state_values = new_state_values\n",
    "        if diff < min_difference:\n",
    "            break\n",
    "\n",
    "    return state_values"
   ]
  },
  {
   "cell_type": "code",
   "execution_count": 26,
   "metadata": {},
   "outputs": [
    {
     "name": "stdout",
     "output_type": "stream",
     "text": [
      "iter    0   |   diff: 1.00000   |   V(start): 0.000 \n",
      "iter    1   |   diff: 0.90000   |   V(start): 0.000 \n",
      "iter    2   |   diff: 0.81000   |   V(start): 0.000 \n",
      "iter    3   |   diff: 0.72900   |   V(start): 0.000 \n",
      "iter    4   |   diff: 0.65610   |   V(start): 0.000 \n",
      "iter    5   |   diff: 0.59049   |   V(start): 0.590 \n",
      "iter    6   |   diff: 0.00000   |   V(start): 0.590 \n"
     ]
    }
   ],
   "source": [
    "state_values = value_iteration(mdp)"
   ]
  },
  {
   "cell_type": "code",
   "execution_count": 27,
   "metadata": {},
   "outputs": [
    {
     "name": "stdout",
     "output_type": "stream",
     "text": [
      "*FFF\n",
      "FHFH\n",
      "FFFH\n",
      "HFFG\n",
      "\n",
      "down\n",
      "\n",
      "SFFF\n",
      "*HFH\n",
      "FFFH\n",
      "HFFG\n",
      "\n",
      "down\n",
      "\n",
      "SFFF\n",
      "FHFH\n",
      "*FFH\n",
      "HFFG\n",
      "\n",
      "right\n",
      "\n",
      "SFFF\n",
      "FHFH\n",
      "F*FH\n",
      "HFFG\n",
      "\n",
      "down\n",
      "\n",
      "SFFF\n",
      "FHFH\n",
      "FFFH\n",
      "H*FG\n",
      "\n",
      "right\n",
      "\n",
      "SFFF\n",
      "FHFH\n",
      "FFFH\n",
      "HF*G\n",
      "\n",
      "right\n",
      "\n",
      "SFFF\n",
      "FHFH\n",
      "FFFH\n",
      "HFF*\n",
      "\n"
     ]
    }
   ],
   "source": [
    "s = mdp.reset()\n",
    "mdp.render()\n",
    "for t in range(100):\n",
    "    a = get_optimal_action(mdp, state_values, s, gamma)\n",
    "    print(a, end='\\n\\n')\n",
    "    s, r, done, _ = mdp.step(a)\n",
    "    mdp.render()\n",
    "    if done:\n",
    "        break"
   ]
  },
  {
   "cell_type": "markdown",
   "metadata": {},
   "source": [
    "### Let's visualize!\n",
    "\n",
    "It's usually interesting to see what your algorithm actually learned under the hood. To do so, we'll plot state value functions and optimal actions at each VI step."
   ]
  },
  {
   "cell_type": "code",
   "execution_count": 28,
   "metadata": {},
   "outputs": [],
   "source": [
    "import matplotlib.pyplot as plt\n",
    "%matplotlib inline\n",
    "\n",
    "\n",
    "def draw_policy(mdp, state_values):\n",
    "    plt.figure(figsize=(3, 3))\n",
    "    h, w = mdp.desc.shape\n",
    "    states = sorted(mdp.get_all_states())\n",
    "    V = np.array([state_values[s] for s in states])\n",
    "    Pi = {s: get_optimal_action(mdp, state_values, s, gamma) for s in states}\n",
    "    plt.imshow(V.reshape(w, h), cmap='gray', interpolation='none', clim=(0, 1))\n",
    "    ax = plt.gca()\n",
    "    ax.set_xticks(np.arange(h)-.5)\n",
    "    ax.set_yticks(np.arange(w)-.5)\n",
    "    ax.set_xticklabels([])\n",
    "    ax.set_yticklabels([])\n",
    "    Y, X = np.mgrid[0:4, 0:4]\n",
    "    a2uv = {'left': (-1, 0), 'down': (0, -1), 'right': (1, 0), 'up': (-1, 0)}\n",
    "    for y in range(h):\n",
    "        for x in range(w):\n",
    "            plt.text(x, y, str(mdp.desc[y, x].item()),\n",
    "                     color='g', size=12,  verticalalignment='center',\n",
    "                     horizontalalignment='center', fontweight='bold')\n",
    "            a = Pi[y, x]\n",
    "            if a is None:\n",
    "                continue\n",
    "            u, v = a2uv[a]\n",
    "            plt.arrow(x, y, u*.3, -v*.3, color='m',\n",
    "                      head_width=0.1, head_length=0.1)\n",
    "    plt.grid(color='b', lw=2, ls='-')\n",
    "    plt.show()"
   ]
  },
  {
   "cell_type": "code",
   "execution_count": 29,
   "metadata": {},
   "outputs": [
    {
     "name": "stdout",
     "output_type": "stream",
     "text": [
      "after iteration 0\n",
      "iter    0   |   diff: 1.00000   |   V(start): 0.000 \n"
     ]
    },
    {
     "data": {
      "image/png": "[encoded data removed]",
      "text/plain": [
       "<Figure size 216x216 with 1 Axes>"
      ]
     },
     "metadata": {
      "needs_background": "light"
     },
     "output_type": "display_data"
    },
    {
     "name": "stdout",
     "output_type": "stream",
     "text": [
      "after iteration 1\n",
      "iter    0   |   diff: 0.90000   |   V(start): 0.000 \n"
     ]
    },
    {
     "data": {
      "image/png": "[encoded data removed]",
      "text/plain": [
       "<Figure size 216x216 with 1 Axes>"
      ]
     },
     "metadata": {
      "needs_background": "light"
     },
     "output_type": "display_data"
    },
    {
     "name": "stdout",
     "output_type": "stream",
     "text": [
      "after iteration 2\n",
      "iter    0   |   diff: 0.81000   |   V(start): 0.000 \n"
     ]
    },
    {
     "data": {
      "image/png": "[encoded data removed]",
      "text/plain": [
       "<Figure size 216x216 with 1 Axes>"
      ]
     },
     "metadata": {
      "needs_background": "light"
     },
     "output_type": "display_data"
    },
    {
     "name": "stdout",
     "output_type": "stream",
     "text": [
      "after iteration 3\n",
      "iter    0   |   diff: 0.72900   |   V(start): 0.000 \n"
     ]
    },
    {
     "data": {
      "image/png": "[encoded data removed]",
      "text/plain": [
       "<Figure size 216x216 with 1 Axes>"
      ]
     },
     "metadata": {
      "needs_background": "light"
     },
     "output_type": "display_data"
    },
    {
     "name": "stdout",
     "output_type": "stream",
     "text": [
      "after iteration 4\n",
      "iter    0   |   diff: 0.65610   |   V(start): 0.000 \n"
     ]
    },
    {
     "data": {
      "image/png": "[encoded data removed]",
      "text/plain": [
       "<Figure size 216x216 with 1 Axes>"
      ]
     },
     "metadata": {
      "needs_background": "light"
     },
     "output_type": "display_data"
    },
    {
     "name": "stdout",
     "output_type": "stream",
     "text": [
      "after iteration 5\n",
      "iter    0   |   diff: 0.59049   |   V(start): 0.590 \n"
     ]
    },
    {
     "data": {
      "image/png": "[encoded data removed]",
      "text/plain": [
       "<Figure size 216x216 with 1 Axes>"
      ]
     },
     "metadata": {
      "needs_background": "light"
     },
     "output_type": "display_data"
    },
    {
     "name": "stdout",
     "output_type": "stream",
     "text": [
      "after iteration 6\n",
      "iter    0   |   diff: 0.00000   |   V(start): 0.590 \n"
     ]
    },
    {
     "data": {
      "image/png": "[encoded data removed]",
      "text/plain": [
       "<Figure size 216x216 with 1 Axes>"
      ]
     },
     "metadata": {
      "needs_background": "light"
     },
     "output_type": "display_data"
    },
    {
     "name": "stdout",
     "output_type": "stream",
     "text": [
      "after iteration 7\n",
      "iter    0   |   diff: 0.00000   |   V(start): 0.590 \n"
     ]
    },
    {
     "data": {
      "image/png": "[encoded data removed]",
      "text/plain": [
       "<Figure size 216x216 with 1 Axes>"
      ]
     },
     "metadata": {
      "needs_background": "light"
     },
     "output_type": "display_data"
    },
    {
     "name": "stdout",
     "output_type": "stream",
     "text": [
      "after iteration 8\n",
      "iter    0   |   diff: 0.00000   |   V(start): 0.590 \n"
     ]
    },
    {
     "data": {
      "image/png": "[encoded data removed]",
      "text/plain": [
       "<Figure size 216x216 with 1 Axes>"
      ]
     },
     "metadata": {
      "needs_background": "light"
     },
     "output_type": "display_data"
    },
    {
     "name": "stdout",
     "output_type": "stream",
     "text": [
      "after iteration 9\n",
      "iter    0   |   diff: 0.00000   |   V(start): 0.590 \n"
     ]
    },
    {
     "data": {
      "image/png": "[encoded data removed]",
      "text/plain": [
       "<Figure size 216x216 with 1 Axes>"
      ]
     },
     "metadata": {
      "needs_background": "light"
     },
     "output_type": "display_data"
    }
   ],
   "source": [
    "state_values = {s: 0 for s in mdp.get_all_states()}\n",
    "\n",
    "for i in range(10):\n",
    "    print(\"after iteration %i\" % i)\n",
    "    state_values = value_iteration(mdp, state_values, num_iter=1)\n",
    "    draw_policy(mdp, state_values)\n",
    "# please ignore iter 0 at each step"
   ]
  },
  {
   "cell_type": "code",
   "execution_count": 30,
   "metadata": {},
   "outputs": [
    {
     "name": "stdout",
     "output_type": "stream",
     "text": [
      "after iteration 29\n",
      "iter    0   |   diff: 0.00000   |   V(start): 0.198 \n"
     ]
    },
    {
     "data": {
      "image/png": "[encoded data removed]",
      "text/plain": [
       "<Figure size 216x216 with 1 Axes>"
      ]
     },
     "metadata": {
      "needs_background": "light"
     },
     "output_type": "display_data"
    }
   ],
   "source": [
    "from IPython.display import clear_output\n",
    "from time import sleep\n",
    "mdp = FrozenLakeEnv(map_name='8x8', slip_chance=0.1)\n",
    "state_values = {s: 0 for s in mdp.get_all_states()}\n",
    "\n",
    "for i in range(30):\n",
    "    clear_output(True)\n",
    "    print(\"after iteration %i\" % i)\n",
    "    state_values = value_iteration(mdp, state_values, num_iter=1)\n",
    "    draw_policy(mdp, state_values)\n",
    "    sleep(0.5)\n",
    "# please ignore iter 0 at each step"
   ]
  },
  {
   "cell_type": "markdown",
   "metadata": {},
   "source": [
    "Massive tests"
   ]
  },
  {
   "cell_type": "code",
   "execution_count": 31,
   "metadata": {},
   "outputs": [
    {
     "name": "stdout",
     "output_type": "stream",
     "text": [
      "iter    0   |   diff: 1.00000   |   V(start): 0.000 \n",
      "iter    1   |   diff: 0.90000   |   V(start): 0.000 \n",
      "iter    2   |   diff: 0.81000   |   V(start): 0.000 \n",
      "iter    3   |   diff: 0.72900   |   V(start): 0.000 \n",
      "iter    4   |   diff: 0.65610   |   V(start): 0.000 \n",
      "iter    5   |   diff: 0.59049   |   V(start): 0.590 \n",
      "iter    6   |   diff: 0.00000   |   V(start): 0.590 \n",
      "average reward:  1.0\n",
      "Well done!\n"
     ]
    }
   ],
   "source": [
    "mdp = FrozenLakeEnv(slip_chance=0)\n",
    "state_values = value_iteration(mdp)\n",
    "\n",
    "total_rewards = []\n",
    "for game_i in range(1000):\n",
    "    s = mdp.reset()\n",
    "    rewards = []\n",
    "    for t in range(100):\n",
    "        s, r, done, _ = mdp.step(\n",
    "            get_optimal_action(mdp, state_values, s, gamma))\n",
    "        rewards.append(r)\n",
    "        if done:\n",
    "            break\n",
    "    total_rewards.append(np.sum(rewards))\n",
    "\n",
    "print(\"average reward: \", np.mean(total_rewards))\n",
    "assert(1.0 <= np.mean(total_rewards) <= 1.0)\n",
    "print(\"Well done!\")"
   ]
  },
  {
   "cell_type": "code",
   "execution_count": 32,
   "metadata": {},
   "outputs": [
    {
     "name": "stdout",
     "output_type": "stream",
     "text": [
      "iter    0   |   diff: 0.90000   |   V(start): 0.000 \n",
      "iter    1   |   diff: 0.72900   |   V(start): 0.000 \n",
      "iter    2   |   diff: 0.62330   |   V(start): 0.000 \n",
      "iter    3   |   diff: 0.50487   |   V(start): 0.000 \n",
      "iter    4   |   diff: 0.40894   |   V(start): 0.000 \n",
      "iter    5   |   diff: 0.34868   |   V(start): 0.349 \n",
      "iter    6   |   diff: 0.06529   |   V(start): 0.410 \n",
      "iter    7   |   diff: 0.05832   |   V(start): 0.468 \n",
      "iter    8   |   diff: 0.01139   |   V(start): 0.480 \n",
      "iter    9   |   diff: 0.00764   |   V(start): 0.487 \n",
      "iter   10   |   diff: 0.00164   |   V(start): 0.489 \n",
      "iter   11   |   diff: 0.00094   |   V(start): 0.490 \n",
      "iter   12   |   diff: 0.00022   |   V(start): 0.490 \n",
      "iter   13   |   diff: 0.00011   |   V(start): 0.490 \n",
      "iter   14   |   diff: 0.00003   |   V(start): 0.490 \n",
      "iter   15   |   diff: 0.00001   |   V(start): 0.490 \n",
      "iter   16   |   diff: 0.00000   |   V(start): 0.490 \n",
      "average reward:  0.872\n",
      "Well done!\n"
     ]
    }
   ],
   "source": [
    "# Measure agent's average reward\n",
    "mdp = FrozenLakeEnv(slip_chance=0.1)\n",
    "state_values = value_iteration(mdp)\n",
    "\n",
    "total_rewards = []\n",
    "for game_i in range(1000):\n",
    "    s = mdp.reset()\n",
    "    rewards = []\n",
    "    for t in range(100):\n",
    "        s, r, done, _ = mdp.step(\n",
    "            get_optimal_action(mdp, state_values, s, gamma))\n",
    "        rewards.append(r)\n",
    "        if done:\n",
    "            break\n",
    "    total_rewards.append(np.sum(rewards))\n",
    "\n",
    "print(\"average reward: \", np.mean(total_rewards))\n",
    "assert(0.8 <= np.mean(total_rewards) <= 0.95)\n",
    "print(\"Well done!\")"
   ]
  },
  {
   "cell_type": "code",
   "execution_count": 33,
   "metadata": {},
   "outputs": [
    {
     "name": "stdout",
     "output_type": "stream",
     "text": [
      "iter    0   |   diff: 0.75000   |   V(start): 0.000 \n",
      "iter    1   |   diff: 0.50625   |   V(start): 0.000 \n",
      "iter    2   |   diff: 0.39867   |   V(start): 0.000 \n",
      "iter    3   |   diff: 0.26910   |   V(start): 0.000 \n",
      "iter    4   |   diff: 0.18164   |   V(start): 0.000 \n",
      "iter    5   |   diff: 0.14013   |   V(start): 0.140 \n",
      "iter    6   |   diff: 0.07028   |   V(start): 0.199 \n",
      "iter    7   |   diff: 0.06030   |   V(start): 0.260 \n",
      "iter    8   |   diff: 0.02594   |   V(start): 0.285 \n",
      "iter    9   |   diff: 0.01918   |   V(start): 0.305 \n",
      "iter   10   |   diff: 0.00858   |   V(start): 0.313 \n",
      "iter   11   |   diff: 0.00560   |   V(start): 0.319 \n",
      "iter   12   |   diff: 0.00260   |   V(start): 0.321 \n",
      "iter   13   |   diff: 0.00159   |   V(start): 0.323 \n",
      "iter   14   |   diff: 0.00076   |   V(start): 0.324 \n",
      "iter   15   |   diff: 0.00045   |   V(start): 0.324 \n",
      "iter   16   |   diff: 0.00022   |   V(start): 0.324 \n",
      "iter   17   |   diff: 0.00012   |   V(start): 0.325 \n",
      "iter   18   |   diff: 0.00006   |   V(start): 0.325 \n",
      "iter   19   |   diff: 0.00003   |   V(start): 0.325 \n",
      "iter   20   |   diff: 0.00002   |   V(start): 0.325 \n",
      "iter   21   |   diff: 0.00001   |   V(start): 0.325 \n",
      "average reward:  0.665\n",
      "Well done!\n"
     ]
    }
   ],
   "source": [
    "# Measure agent's average reward\n",
    "mdp = FrozenLakeEnv(slip_chance=0.25)\n",
    "state_values = value_iteration(mdp)\n",
    "\n",
    "total_rewards = []\n",
    "for game_i in range(1000):\n",
    "    s = mdp.reset()\n",
    "    rewards = []\n",
    "    for t in range(100):\n",
    "        s, r, done, _ = mdp.step(\n",
    "            get_optimal_action(mdp, state_values, s, gamma))\n",
    "        rewards.append(r)\n",
    "        if done:\n",
    "            break\n",
    "    total_rewards.append(np.sum(rewards))\n",
    "\n",
    "print(\"average reward: \", np.mean(total_rewards))\n",
    "assert(0.6 <= np.mean(total_rewards) <= 0.7)\n",
    "print(\"Well done!\")"
   ]
  },
  {
   "cell_type": "code",
   "execution_count": 34,
   "metadata": {},
   "outputs": [
    {
     "name": "stdout",
     "output_type": "stream",
     "text": [
      "iter    0   |   diff: 0.80000   |   V(start): 0.000 \n",
      "iter    1   |   diff: 0.57600   |   V(start): 0.000 \n",
      "iter    2   |   diff: 0.41472   |   V(start): 0.000 \n",
      "iter    3   |   diff: 0.29860   |   V(start): 0.000 \n",
      "iter    4   |   diff: 0.24186   |   V(start): 0.000 \n",
      "iter    5   |   diff: 0.19349   |   V(start): 0.000 \n",
      "iter    6   |   diff: 0.15325   |   V(start): 0.000 \n",
      "iter    7   |   diff: 0.12288   |   V(start): 0.000 \n",
      "iter    8   |   diff: 0.09930   |   V(start): 0.000 \n",
      "iter    9   |   diff: 0.08037   |   V(start): 0.000 \n",
      "iter   10   |   diff: 0.06426   |   V(start): 0.000 \n",
      "iter   11   |   diff: 0.05129   |   V(start): 0.000 \n",
      "iter   12   |   diff: 0.04330   |   V(start): 0.000 \n",
      "iter   13   |   diff: 0.03802   |   V(start): 0.033 \n",
      "iter   14   |   diff: 0.03332   |   V(start): 0.058 \n",
      "iter   15   |   diff: 0.02910   |   V(start): 0.087 \n",
      "iter   16   |   diff: 0.01855   |   V(start): 0.106 \n",
      "iter   17   |   diff: 0.01403   |   V(start): 0.120 \n",
      "iter   18   |   diff: 0.00810   |   V(start): 0.128 \n",
      "iter   19   |   diff: 0.00555   |   V(start): 0.133 \n",
      "iter   20   |   diff: 0.00321   |   V(start): 0.137 \n",
      "iter   21   |   diff: 0.00247   |   V(start): 0.138 \n",
      "iter   22   |   diff: 0.00147   |   V(start): 0.139 \n",
      "iter   23   |   diff: 0.00104   |   V(start): 0.140 \n",
      "iter   24   |   diff: 0.00058   |   V(start): 0.140 \n",
      "iter   25   |   diff: 0.00036   |   V(start): 0.141 \n",
      "iter   26   |   diff: 0.00024   |   V(start): 0.141 \n",
      "iter   27   |   diff: 0.00018   |   V(start): 0.141 \n",
      "iter   28   |   diff: 0.00012   |   V(start): 0.141 \n",
      "iter   29   |   diff: 0.00007   |   V(start): 0.141 \n",
      "iter   30   |   diff: 0.00004   |   V(start): 0.141 \n",
      "iter   31   |   diff: 0.00003   |   V(start): 0.141 \n",
      "iter   32   |   diff: 0.00001   |   V(start): 0.141 \n",
      "iter   33   |   diff: 0.00001   |   V(start): 0.141 \n",
      "average reward:  0.759\n",
      "Well done!\n"
     ]
    }
   ],
   "source": [
    "# Measure agent's average reward\n",
    "mdp = FrozenLakeEnv(slip_chance=0.2, map_name='8x8')\n",
    "state_values = value_iteration(mdp)\n",
    "\n",
    "total_rewards = []\n",
    "for game_i in range(1000):\n",
    "    s = mdp.reset()\n",
    "    rewards = []\n",
    "    for t in range(100):\n",
    "        s, r, done, _ = mdp.step(\n",
    "            get_optimal_action(mdp, state_values, s, gamma))\n",
    "        rewards.append(r)\n",
    "        if done:\n",
    "            break\n",
    "    total_rewards.append(np.sum(rewards))\n",
    "\n",
    "print(\"average reward: \", np.mean(total_rewards))\n",
    "assert(0.6 <= np.mean(total_rewards) <= 0.8)\n",
    "print(\"Well done!\")"
   ]
  },
  {
   "cell_type": "markdown",
   "metadata": {},
   "source": [
    "## Bonus area"
   ]
  },
  {
   "cell_type": "markdown",
   "metadata": {},
   "source": [
    "### Bonus 1 - find an MDP for which value iteration takes long to converge  (2+ pts)\n",
    "\n",
    "When we ran value iteration on the small frozen lake problem, the last iteration where an action changed was iteration 6--i.e., value iteration computed the optimal policy at iteration 6. Are there any guarantees regarding how many iterations it'll take value iteration to compute the optimal policy? There are no such guarantees without additional assumptions--we can construct the MDP in such a way that the greedy policy will change after arbitrarily many iterations.\n",
    "\n",
    "Your task: define an MDP with at most 3 states and 2 actions, such that when you run value iteration, the optimal action changes at iteration >= 50. Use discount=0.95. (However, note that the discount doesn't matter here--you can construct an appropriate MDP with any discount.)\n",
    "\n",
    "Note: value function must change at least once after iteration >=50, not necessarily change on every iteration till >=50."
   ]
  },
  {
   "cell_type": "code",
   "execution_count": 35,
   "metadata": {},
   "outputs": [],
   "source": [
    "transition_probs = {\n",
    "    's0': {\n",
    "        'a0': {'s2': 1},\n",
    "        'a1': {'s0': 1}\n",
    "    },\n",
    "    's1': {\n",
    "        'a0': {'s2': 1}\n",
    "    },\n",
    "    's2': {\n",
    "        'a0': {'s1': 1}\n",
    "    }\n",
    "}\n",
    "\n",
    "rewards = {\n",
    "    's0': {'a1': {'s0': 0}},\n",
    "    's1': {'a0': {'s2': 1.07}},\n",
    "    's2': {'a0': {'s1': -1}}\n",
    "}\n",
    "\n",
    "from mdp import MDP\n",
    "from numpy import random\n",
    "mdp = MDP(transition_probs, rewards, initial_state=random.choice(tuple(transition_probs.keys())))\n",
    "# Feel free to change the initial_state"
   ]
  },
  {
   "cell_type": "code",
   "execution_count": 40,
   "metadata": {},
   "outputs": [
    {
     "name": "stdout",
     "output_type": "stream",
     "text": [
      "after iteration 0\n",
      "iter    0   |   diff: 1.07000   |   V(start): 1.070 \n",
      "{'s0': 0.0, 's1': 1.07, 's2': -1.0}\n",
      "N actions changed = 1 \n",
      "\n",
      "after iteration 1\n",
      "iter    0   |   diff: 1.01650   |   V(start): 0.120 \n",
      "{'s0': 0.0, 's1': 0.1200000000000001, 's2': 0.01649999999999996}\n",
      "N actions changed = 1 \n",
      "\n",
      "after iteration 2\n",
      "iter    0   |   diff: 0.96567   |   V(start): 1.086 \n",
      "{'s0': 0.01567499999999996, 's1': 1.085675, 's2': -0.8859999999999999}\n",
      "N actions changed = 1 \n",
      "\n",
      "after iteration 3\n",
      "iter    0   |   diff: 0.91739   |   V(start): 0.228 \n",
      "{'s0': 0.014891249999999962, 's1': 0.22830000000000017, 's2': 0.03139124999999998}\n",
      "N actions changed = 1 \n",
      "\n",
      "after iteration 4\n",
      "iter    0   |   diff: 0.87152   |   V(start): 1.100 \n",
      "{'s0': 0.029821687499999982, 's1': 1.0998216875, 's2': -0.7831149999999998}\n",
      "N actions changed = 1 \n",
      "\n",
      "after iteration 5\n",
      "iter    0   |   diff: 0.82795   |   V(start): 0.326 \n",
      "{'s0': 0.028330603124999982, 's1': 0.3260407500000003, 's2': 0.04483060312499987}\n",
      "N actions changed = 1 \n",
      "\n",
      "after iteration 6\n",
      "iter    0   |   diff: 0.78655   |   V(start): 1.113 \n",
      "{'s0': 0.04258907296874987, 's1': 1.11258907296875, 's2': -0.6902612874999997}\n",
      "N actions changed = 1 \n",
      "\n",
      "after iteration 7\n",
      "iter    0   |   diff: 0.74722   |   V(start): 0.414 \n",
      "{'s0': 0.040459619320312376, 's1': 0.41425177687500037, 's2': 0.05695961932031235}\n",
      "N actions changed = 1 \n",
      "\n",
      "after iteration 8\n",
      "iter    0   |   diff: 0.70986   |   V(start): 1.124 \n",
      "{'s0': 0.05411163835429673, 's1': 1.1241116383542968, 's2': -0.6064608119687497}\n",
      "N actions changed = 1 \n",
      "\n",
      "after iteration 9\n",
      "iter    0   |   diff: 0.67437   |   V(start): 0.494 \n",
      "{'s0': 0.05140605643658189, 's1': 0.49386222862968787, 's2': 0.06790605643658187}\n",
      "N actions changed = 1 \n",
      "\n",
      "after iteration 10\n",
      "iter    0   |   diff: 0.64065   |   V(start): 1.135 \n",
      "{'s0': 0.06451075361475278, 's1': 1.134510753614753, 's2': -0.5308308828017965}\n",
      "N actions changed = 1 \n",
      "\n",
      "after iteration 11\n",
      "iter    0   |   diff: 0.60862   |   V(start): 0.566 \n",
      "{'s0': 0.06128521593401514, 's1': 0.5657106613382934, 's2': 0.07778521593401533}\n",
      "N actions changed = 1 \n",
      "\n",
      "after iteration 12\n",
      "iter    0   |   diff: 0.57819   |   V(start): 1.144 \n",
      "{'s0': 0.07389595513731456, 's1': 1.1438959551373147, 's2': -0.46257487172862133}\n",
      "N actions changed = 1 \n",
      "\n",
      "after iteration 13\n",
      "iter    0   |   diff: 0.54928   |   V(start): 0.631 \n",
      "{'s0': 0.07020115738044883, 's1': 0.6305538718578099, 's2': 0.08670115738044881}\n",
      "N actions changed = 1 \n",
      "\n",
      "after iteration 14\n",
      "iter    0   |   diff: 0.52181   |   V(start): 1.152 \n",
      "{'s0': 0.08236609951142637, 's1': 1.1523660995114264, 's2': -0.40097382173508067}\n",
      "N actions changed = 1 \n",
      "\n",
      "after iteration 15\n",
      "iter    0   |   diff: 0.49572   |   V(start): 0.689 \n",
      "{'s0': 0.07824779453585505, 's1': 0.6890748693516735, 's2': 0.09474779453585502}\n",
      "N actions changed = 1 \n",
      "\n",
      "after iteration 16\n",
      "iter    0   |   diff: 0.47094   |   V(start): 1.160 \n",
      "{'s0': 0.09001040480906226, 's1': 1.1600104048090623, 's2': -0.3453788741159102}\n",
      "N actions changed = 1 \n",
      "\n",
      "after iteration 17\n",
      "iter    0   |   diff: 0.44739   |   V(start): 0.742 \n",
      "{'s0': 0.08550988456860914, 's1': 0.7418900695898853, 's2': 0.10200988456860904}\n",
      "N actions changed = 1 \n",
      "\n",
      "after iteration 18\n",
      "iter    0   |   diff: 0.42502   |   V(start): 1.167 \n",
      "{'s0': 0.09690939034017859, 's1': 1.1669093903401786, 's2': -0.29520443388960893}\n",
      "N actions changed = 1 \n",
      "\n",
      "after iteration 19\n",
      "iter    0   |   diff: 0.40377   |   V(start): 0.790 \n",
      "{'s0': 0.09206392082316965, 's1': 0.7895557878048716, 's2': 0.10856392082316968}\n",
      "N actions changed = 1 \n",
      "\n",
      "after iteration 20\n",
      "iter    0   |   diff: 0.38358   |   V(start): 1.173 \n",
      "{'s0': 0.10313572478201119, 's1': 1.1731357247820113, 's2': -0.24992200158537203}\n",
      "N actions changed = 1 \n",
      "\n",
      "after iteration 21\n",
      "iter    0   |   diff: 0.36440   |   V(start): 0.833 \n",
      "{'s0': 0.09797893854291062, 's1': 0.8325740984938966, 's2': 0.1144789385429108}\n",
      "N actions changed = 1 \n",
      "\n",
      "after iteration 22\n",
      "iter    0   |   diff: 0.34618   |   V(start): 1.179 \n",
      "{'s0': 0.10875499161576525, 's1': 1.1787549916157654, 's2': -0.2090546064307982}\n",
      "N actions changed = 1 \n",
      "\n",
      "after iteration 23\n",
      "iter    0   |   diff: 0.32887   |   V(start): 0.871 \n",
      "{'s0': 0.10331724203497698, 's1': 0.8713981238907418, 's2': 0.11981724203497701}\n",
      "N actions changed = 1 \n",
      "\n",
      "after iteration 24\n",
      "iter    0   |   diff: 0.31243   |   V(start): 1.184 \n",
      "{'s0': 0.11382637993322815, 's1': 1.1838263799332283, 's2': -0.17217178230379537}\n",
      "N actions changed = 1 \n",
      "\n",
      "after iteration 25\n",
      "iter    0   |   diff: 0.29681   |   V(start): 0.906 \n",
      "{'s0': 0.10813506093656675, 's1': 0.9064368068113945, 's2': 0.12463506093656673}\n",
      "N actions changed = 1 \n",
      "\n",
      "after iteration 26\n",
      "iter    0   |   diff: 0.28197   |   V(start): 1.188 \n",
      "{'s0': 0.1184033078897384, 's1': 1.1884033078897385, 's2': -0.13888503352917525}\n",
      "N actions changed = 1 \n",
      "\n",
      "after iteration 27\n",
      "iter    0   |   diff: 0.26787   |   V(start): 0.938 \n",
      "{'s0': 0.11248314249525147, 's1': 0.9380592181472835, 's2': 0.12898314249525145}\n",
      "N actions changed = 1 \n",
      "\n",
      "after iteration 28\n",
      "iter    0   |   diff: 0.25447   |   V(start): 1.193 \n",
      "{'s0': 0.12253398537048887, 's1': 1.1925339853704888, 's2': -0.10884374276008069}\n",
      "N actions changed = 1 \n",
      "\n",
      "after iteration 29\n",
      "iter    0   |   diff: 0.24175   |   V(start): 0.967 \n",
      "{'s0': 0.11640728610196442, 's1': 0.9665984443779234, 's2': 0.13290728610196423}\n",
      "N actions changed = 1 \n",
      "\n",
      "after iteration 30\n",
      "iter    0   |   diff: 0.22966   |   V(start): 1.196 \n",
      "{'s0': 0.12626192179686602, 's1': 1.1962619217968662, 's2': -0.08173147784097279}\n",
      "N actions changed = 1 \n",
      "\n",
      "after iteration 31\n",
      "iter    0   |   diff: 0.21818   |   V(start): 0.992 \n",
      "{'s0': 0.11994882570702271, 's1': 0.9923550960510759, 's2': 0.13644882570702288}\n",
      "N actions changed = 1 \n",
      "\n",
      "after iteration 32\n",
      "iter    0   |   diff: 0.20727   |   V(start): 1.200 \n",
      "{'s0': 0.12962638442167174, 's1': 1.1996263844216717, 's2': -0.05726265875147796}\n",
      "N actions changed = 1 \n",
      "\n",
      "after iteration 33\n",
      "iter    0   |   diff: 0.19691   |   V(start): 1.016 \n",
      "{'s0': 0.12314506520058814, 's1': 1.015600474186096, 's2': 0.13964506520058806}\n",
      "N actions changed = 1 \n",
      "\n",
      "after iteration 34\n",
      "iter    0   |   diff: 0.18706   |   V(start): 1.203 \n",
      "{'s0': 0.13266281194055865, 's1': 1.2026628119405587, 's2': -0.0351795495232089}\n",
      "N actions changed = 1 \n",
      "\n",
      "after iteration 35\n",
      "iter    0   |   diff: 0.17771   |   V(start): 1.037 \n",
      "{'s0': 0.1260296713435307, 's1': 1.0365794279529517, 's2': 0.14252967134353067}\n",
      "N actions changed = 1 \n",
      "\n",
      "after iteration 36\n",
      "iter    0   |   diff: 0.16882   |   V(start): 1.205 \n",
      "{'s0': 0.13540318777635413, 's1': 1.2054031877763542, 's2': -0.015249543444695979}\n",
      "N actions changed = 1 \n",
      "\n",
      "after iteration 37\n",
      "iter    0   |   diff: 0.16038   |   V(start): 1.056 \n",
      "{'s0': 0.1286330283875364, 's1': 1.0555129337275388, 's2': 0.1451330283875365}\n",
      "N actions changed = 1 \n",
      "\n",
      "after iteration 38\n",
      "iter    0   |   diff: 0.15236   |   V(start): 1.208 \n",
      "{'s0': 0.13787637696815966, 's1': 1.2078763769681597, 's2': 0.00273728704116194}\n",
      "N actions changed = 1 \n",
      "\n",
      "after iteration 39\n",
      "iter    0   |   diff: 0.14475   |   V(start): 1.073 \n",
      "{'s0': 0.13098255811975168, 's1': 1.072600422689104, 's2': 0.14748255811975164}\n",
      "N actions changed = 1 \n",
      "\n",
      "after iteration 40\n",
      "iter    0   |   diff: 0.13751   |   V(start): 1.210 \n",
      "{'s0': 0.14010843021376404, 's1': 1.2101084302137641, 's2': 0.018970401554648797}\n",
      "N actions changed = 1 \n",
      "\n",
      "after iteration 41\n",
      "iter    0   |   diff: 0.13063   |   V(start): 1.088 \n",
      "{'s0': 0.13310300870307584, 's1': 1.0880218814769165, 's2': 0.14960300870307597}\n",
      "N actions changed = 1 \n",
      "\n",
      "after iteration 42\n",
      "iter    0   |   diff: 0.12410   |   V(start): 1.212 \n",
      "{'s0': 0.14212285826792218, 's1': 1.2121228582679222, 's2': 0.03362078740307051}\n",
      "N actions changed = 1 \n",
      "\n",
      "after iteration 43\n",
      "iter    0   |   diff: 0.11790   |   V(start): 1.102 \n",
      "{'s0': 0.13501671535452606, 's1': 1.101939748032917, 's2': 0.15151671535452604}\n",
      "N actions changed = 1 \n",
      "\n",
      "after iteration 44\n",
      "iter    0   |   diff: 0.11200   |   V(start): 1.214 \n",
      "{'s0': 0.14394087958679974, 's1': 1.2139408795867999, 's2': 0.04684276063127113}\n",
      "N actions changed = 1 \n",
      "\n",
      "after iteration 45\n",
      "iter    0   |   diff: 0.10640   |   V(start): 1.115 \n",
      "{'s0': 0.13674383560745976, 's1': 1.1145006225997076, 's2': 0.1532438356074599}\n",
      "N actions changed = 1 \n",
      "\n",
      "after iteration 46\n",
      "iter    0   |   diff: 0.10108   |   V(start): 1.216 \n",
      "{'s0': 0.1455816438270869, 's1': 1.215581643827087, 's2': 0.05877559146972211}\n",
      "N actions changed = 1 \n",
      "\n",
      "after iteration 47\n",
      "iter    0   |   diff: 0.09603   |   V(start): 1.126 \n",
      "{'s0': 0.13830256163573257, 's1': 1.125836811896236, 's2': 0.1548025616357327}\n",
      "N actions changed = 1 \n",
      "\n",
      "after iteration 48\n",
      "iter    0   |   diff: 0.09123   |   V(start): 1.217 \n",
      "{'s0': 0.14706243355394605, 's1': 1.2170624335539462, 's2': 0.06954497130142423}\n",
      "N actions changed = 1 \n",
      "\n",
      "after iteration 49\n",
      "iter    0   |   diff: 0.08666   |   V(start): 1.136 \n",
      "{'s0': 0.13970931187624874, 's1': 1.1360677227363531, 's2': 0.15620931187624887}\n",
      "N actions changed = 1 \n",
      "\n",
      "after iteration 50\n",
      "iter    0   |   diff: 0.08233   |   V(start): 1.218 \n",
      "{'s0': 0.1483988462824364, 's1': 1.2183988462824364, 's2': 0.07926433659953536}\n",
      "N actions changed = 1 \n",
      "\n",
      "after iteration 51\n",
      "iter    0   |   diff: 0.07821   |   V(start): 1.145 \n",
      "{'s0': 0.14097890396831458, 's1': 1.1453011197695586, 's2': 0.15747890396831465}\n",
      "N actions changed = 1 \n",
      "\n",
      "after iteration 52\n",
      "iter    0   |   diff: 0.07430   |   V(start): 1.220 \n",
      "{'s0': 0.1496049587698989, 's1': 1.219604958769899, 's2': 0.08803606378108064}\n",
      "N actions changed = 1 \n",
      "\n",
      "after iteration 53\n",
      "iter    0   |   diff: 0.07059   |   V(start): 1.154 \n",
      "{'s0': 0.14212471083140396, 's1': 1.1536342605920267, 's2': 0.15862471083140384}\n",
      "N actions changed = 1 \n",
      "\n",
      "after iteration 54\n",
      "iter    0   |   diff: 0.06706   |   V(start): 1.221 \n",
      "{'s0': 0.15069347528983365, 's1': 1.2206934752898337, 's2': 0.09595254756242522}\n",
      "N actions changed = 1 \n",
      "\n",
      "after iteration 55\n",
      "iter    0   |   diff: 0.06371   |   V(start): 1.161 \n",
      "{'s0': 0.14315880152534197, 's1': 1.161154920184304, 's2': 0.15965880152534195}\n",
      "N actions changed = 1 \n",
      "\n",
      "after iteration 56\n",
      "iter    0   |   diff: 0.06052   |   V(start): 1.222 \n",
      "{'s0': 0.15167586144907486, 's1': 1.221675861449075, 's2': 0.10309717417508879}\n",
      "N actions changed = 1 \n",
      "\n",
      "after iteration 57\n",
      "iter    0   |   diff: 0.05749   |   V(start): 1.168 \n",
      "{'s0': 0.1440920683766211, 's1': 1.1679423154663344, 's2': 0.16059206837662132}\n",
      "N actions changed = 1 \n",
      "\n",
      "after iteration 58\n",
      "iter    0   |   diff: 0.05462   |   V(start): 1.223 \n",
      "{'s0': 0.15256246495779024, 's1': 1.2225624649577904, 's2': 0.10954519969301768}\n",
      "N actions changed = 1 \n",
      "\n",
      "after iteration 59\n",
      "iter    0   |   diff: 0.05189   |   V(start): 1.174 \n",
      "{'s0': 0.14493434170990072, 's1': 1.1740679397083669, 's2': 0.1614343417099009}\n",
      "N actions changed = 1 \n",
      "\n",
      "after iteration 60\n",
      "iter    0   |   diff: 0.04929   |   V(start): 1.223 \n",
      "{'s0': 0.15336262462440584, 's1': 1.2233626246244058, 's2': 0.11536454272294838}\n",
      "N actions changed = 1 \n",
      "\n",
      "after iteration 61\n",
      "iter    0   |   diff: 0.04683   |   V(start): 1.180 \n",
      "{'s0': 0.14569449339318555, 's1': 1.179596315586801, 's2': 0.16219449339318537}\n",
      "N actions changed = 1 \n",
      "\n",
      "after iteration 62\n",
      "iter    0   |   diff: 0.04449   |   V(start): 1.224 \n",
      "{'s0': 0.15408476872352608, 's1': 1.2240847687235261, 's2': 0.12061649980746081}\n",
      "N actions changed = 1 \n",
      "\n",
      "after iteration 63\n",
      "iter    0   |   diff: 0.04226   |   V(start): 1.185 \n",
      "{'s0': 0.14638053028734976, 's1': 1.1845856748170878, 's2': 0.16288053028734972}\n",
      "N actions changed = 1 \n",
      "\n",
      "after iteration 64\n",
      "iter    0   |   diff: 0.04015   |   V(start): 1.225 \n",
      "{'s0': 0.15473650377298223, 's1': 1.2247365037729823, 's2': 0.12535639107623342}\n",
      "N actions changed = 1 \n",
      "\n",
      "after iteration 65\n",
      "iter    0   |   diff: 0.03814   |   V(start): 1.189 \n",
      "{'s0': 0.1469996785843331, 's1': 1.1890885715224218, 's2': 0.163499678584333}\n",
      "N actions changed = 1 \n",
      "\n",
      "after iteration 66\n",
      "iter    0   |   diff: 0.03624   |   V(start): 1.225 \n",
      "{'s0': 0.15532469465511636, 's1': 1.2253246946551164, 's2': 0.1296341429463006}\n",
      "N actions changed = 1 \n",
      "\n",
      "after iteration 67\n",
      "iter    0   |   diff: 0.03442   |   V(start): 1.193 \n",
      "{'s0': 0.14755845992236055, 's1': 1.1931524357989856, 's2': 0.16405845992236046}\n",
      "N actions changed = 1 \n",
      "\n",
      "after iteration 68\n",
      "iter    0   |   diff: 0.03270   |   V(start): 1.226 \n",
      "{'s0': 0.15585553692624243, 's1': 1.2258555369262425, 's2': 0.13349481400903618}\n",
      "N actions changed = 1 \n",
      "\n",
      "after iteration 69\n",
      "iter    0   |   diff: 0.03107   |   V(start): 1.197 \n",
      "{'s0': 0.1480627600799303, 's1': 1.1968200733085843, 's2': 0.16456276007993043}\n",
      "N actions changed = 1 \n",
      "\n",
      "after iteration 70\n",
      "iter    0   |   diff: 0.02951   |   V(start): 1.226 \n",
      "{'s0': 0.1563346220759339, 's1': 1.226334622075934, 's2': 0.13697906964315498}\n",
      "N actions changed = 1 \n",
      "\n",
      "after iteration 71\n",
      "iter    0   |   diff: 0.02804   |   V(start): 1.200 \n",
      "{'s0': 0.1485178909721372, 's1': 1.2001301161609974, 's2': 0.16501789097213715}\n",
      "N actions changed = 1 \n",
      "\n",
      "after iteration 72\n",
      "iter    0   |   diff: 0.02664   |   V(start): 1.227 \n",
      "{'s0': 0.15676699642353029, 's1': 1.2267669964235304, 's2': 0.14012361035294751}\n",
      "N actions changed = 1 \n",
      "\n",
      "after iteration 73\n",
      "iter    0   |   diff: 0.02531   |   V(start): 1.203 \n",
      "{'s0': 0.14892864660235378, 's1': 1.2031174298353002, 's2': 0.1654286466023538}\n",
      "N actions changed = 1 \n",
      "\n",
      "after iteration 74\n",
      "iter    0   |   diff: 0.02404   |   V(start): 1.227 \n",
      "{'s0': 0.15715721427223608, 's1': 1.2271572142722362, 's2': 0.14296155834353508}\n",
      "N actions changed = 1 \n",
      "\n",
      "after iteration 75\n",
      "iter    0   |   diff: 0.02284   |   V(start): 1.206 \n",
      "{'s0': 0.14929935355862428, 's1': 1.2058134804263583, 's2': 0.1657993535586244}\n",
      "N actions changed = 1 \n",
      "\n",
      "after iteration 76\n",
      "iter    0   |   diff: 0.02170   |   V(start): 1.228 \n",
      "{'s0': 0.1575093858806932, 's1': 1.2275093858806931, 's2': 0.14552280640504023}\n",
      "N actions changed = 1 \n",
      "\n",
      "after iteration 77\n",
      "iter    0   |   diff: 0.02061   |   V(start): 1.208 \n",
      "{'s0': 0.14963391658665853, 's1': 1.2082466660847884, 's2': 0.16613391658665844}\n",
      "N actions changed = 1 \n",
      "\n",
      "after iteration 78\n",
      "iter    0   |   diff: 0.01958   |   V(start): 1.228 \n",
      "{'s0': 0.1578272207573255, 's1': 1.2278272207573255, 's2': 0.14783433278054892}\n",
      "N actions changed = 1 \n",
      "\n",
      "after iteration 79\n",
      "iter    0   |   diff: 0.01860   |   V(start): 1.210 \n",
      "{'s0': 0.14993585971945922, 's1': 1.2104426161415216, 's2': 0.1664358597194593}\n",
      "N actions changed = 1 \n",
      "\n",
      "after iteration 80\n",
      "iter    0   |   diff: 0.01767   |   V(start): 1.228 \n",
      "{'s0': 0.15811406673348632, 's1': 1.2281140667334864, 's2': 0.14992048533444557}\n",
      "N actions changed = 1 \n",
      "\n",
      "after iteration 81\n",
      "iter    0   |   diff: 0.01679   |   V(start): 1.212 \n",
      "{'s0': 0.150208363396812, 's1': 1.2124244610677233, 's2': 0.16670836339681205}\n",
      "N actions changed = 1 \n",
      "\n",
      "after iteration 82\n",
      "iter    0   |   diff: 0.01595   |   V(start): 1.228 \n",
      "{'s0': 0.15837294522697146, 's1': 1.2283729452269716, 's2': 0.15180323801433704}\n",
      "N actions changed = 1 \n",
      "\n",
      "after iteration 83\n",
      "iter    0   |   diff: 0.01515   |   V(start): 1.214 \n",
      "{'s0': 0.15045429796562287, 's1': 1.2142130761136203, 's2': 0.1669542979656229}\n",
      "N actions changed = 1 \n",
      "\n",
      "after iteration 84\n",
      "iter    0   |   diff: 0.01439   |   V(start): 1.229 \n",
      "{'s0': 0.15860658306734174, 's1': 1.2286065830673418, 's2': 0.1535024223079393}\n",
      "N actions changed = 1 \n",
      "\n",
      "after iteration 85\n",
      "iter    0   |   diff: 0.01367   |   V(start): 1.216 \n",
      "{'s0': 0.15067625391397466, 's1': 1.2158273011925425, 's2': 0.16717625391397473}\n",
      "N actions changed = 1 \n",
      "\n",
      "after iteration 86\n",
      "iter    0   |   diff: 0.01299   |   V(start): 1.229 \n",
      "{'s0': 0.15881744121827598, 's1': 1.228817441218276, 's2': 0.15503593613291522}\n",
      "N actions changed = 1 \n",
      "\n",
      "after iteration 87\n",
      "iter    0   |   diff: 0.01234   |   V(start): 1.217 \n",
      "{'s0': 0.15087656915736217, 's1': 1.2172841393262694, 's2': 0.1673765691573621}\n",
      "N actions changed = 1 \n",
      "\n",
      "after iteration 88\n",
      "iter    0   |   diff: 0.01172   |   V(start): 1.229 \n",
      "{'s0': 0.159007740699494, 's1': 1.2290077406994941, 's2': 0.156419932359956}\n",
      "N actions changed = 1 \n",
      "\n",
      "after iteration 89\n",
      "iter    0   |   diff: 0.01114   |   V(start): 1.219 \n",
      "{'s0': 0.15105735366451928, 's1': 1.2185989357419582, 's2': 0.1675573536645194}\n",
      "N actions changed = 1 \n",
      "\n",
      "after iteration 90\n",
      "iter    0   |   diff: 0.01058   |   V(start): 1.229 \n",
      "{'s0': 0.15917948598129342, 's1': 1.2291794859812935, 's2': 0.15766898895486015}\n",
      "N actions changed = 1 \n",
      "\n",
      "after iteration 91\n",
      "iter    0   |   diff: 0.01005   |   V(start): 1.220 \n",
      "{'s0': 0.15122051168222875, 's1': 1.219785539507117, 's2': 0.16772051168222868}\n",
      "N actions changed = 1 \n",
      "\n",
      "after iteration 92\n",
      "iter    0   |   diff: 0.00955   |   V(start): 1.229 \n",
      "{'s0': 0.15933448609811723, 's1': 1.2293344860981172, 's2': 0.15879626253176116}\n",
      "N actions changed = 1 \n",
      "\n",
      "after iteration 93\n",
      "iter    0   |   diff: 0.00907   |   V(start): 1.221 \n",
      "{'s0': 0.15136776179321138, 's1': 1.2208564494051732, 's2': 0.1678677617932114}\n",
      "N actions changed = 1 \n",
      "\n",
      "after iteration 94\n",
      "iter    0   |   diff: 0.00862   |   V(start): 1.229 \n",
      "{'s0': 0.1594743737035508, 's1': 1.229474373703551, 's2': 0.15981362693491463}\n",
      "N actions changed = 0 \n",
      "\n",
      "after iteration 95\n",
      "iter    0   |   diff: 0.00819   |   V(start): 1.222 \n",
      "{'s0': 0.1518229455881689, 's1': 1.221822945588169, 's2': 0.16800065501837325}\n",
      "N actions changed = 0 \n",
      "\n",
      "after iteration 96\n",
      "iter    0   |   diff: 0.00778   |   V(start): 1.230 \n",
      "{'s0': 0.15960062226745458, 's1': 1.2296006222674547, 's2': 0.1607317983087606}\n",
      "N actions changed = 0 \n",
      "\n",
      "after iteration 97\n",
      "iter    0   |   diff: 0.00739   |   V(start): 1.223 \n",
      "{'s0': 0.15269520839332257, 's1': 1.2226952083933227, 's2': 0.16812059115408196}\n",
      "N actions changed = 0 \n",
      "\n",
      "after iteration 98\n",
      "iter    0   |   diff: 0.00702   |   V(start): 1.230 \n",
      "{'s0': 0.15971456159637784, 's1': 1.2297145615963778, 's2': 0.16156044797365654}\n",
      "N actions changed = 0 \n",
      "\n",
      "after iteration 99\n",
      "iter    0   |   diff: 0.00667   |   V(start): 1.223 \n",
      "{'s0': 0.1534824255749737, 's1': 1.2234824255749737, 's2': 0.16822883351655893}\n",
      "N actions changed = 0 \n",
      "\n"
     ]
    }
   ],
   "source": [
    "state_values = {s: 0 for s in mdp.get_all_states()}\n",
    "policy = np.array([get_optimal_action(mdp, state_values, state, gamma)\n",
    "                   for state in sorted(mdp.get_all_states())])\n",
    "\n",
    "for i in range(100):\n",
    "    print(\"after iteration %i\" % i)\n",
    "    state_values = value_iteration(mdp, state_values, 0.95, num_iter=1)\n",
    "    print(state_values)\n",
    "    new_policy = np.array([get_optimal_action(mdp, state_values, state, gamma)\n",
    "                           for state in sorted(mdp.get_all_states())])\n",
    "\n",
    "    n_changes = (policy != new_policy).sum()\n",
    "    print(\"N actions changed = %i \\n\" % n_changes)\n",
    "    policy = new_policy\n",
    "\n",
    "# please ignore iter 0 at each step"
   ]
  },
  {
   "cell_type": "markdown",
   "metadata": {},
   "source": [
    "Yeah, we did it."
   ]
  },
  {
   "cell_type": "markdown",
   "metadata": {},
   "source": [
    "### Bonus 2 - Policy Iteration (3+ points)\n",
    "\n",
    "Let's implement exact policy iteration (PI), which has the following pseudocode:\n",
    "\n",
    "---\n",
    "Initialize $\\pi_0$   `// random or fixed action`\n",
    "\n",
    "For $n=0, 1, 2, \\dots$\n",
    "- Compute the state-value function $V^{\\pi_{n}}$\n",
    "- Using $V^{\\pi_{n}}$, compute the state-action-value function $Q^{\\pi_{n}}$\n",
    "- Compute new policy $\\pi_{n+1}(s) = \\operatorname*{argmax}_a Q^{\\pi_{n}}(s,a)$\n",
    "---\n",
    "\n",
    "Unlike VI, policy iteration has to maintain a policy - chosen actions from all states - and estimate $V^{\\pi_{n}}$ based on this policy. It only changes policy once values converged.\n",
    "\n",
    "\n",
    "Below are a few helpers that you may or may not use in your implementation."
   ]
  },
  {
   "cell_type": "code",
   "execution_count": 57,
   "metadata": {},
   "outputs": [],
   "source": [
    "transition_probs = {\n",
    "    's0': {\n",
    "        'a0': {'s2': 1},\n",
    "        'a1': {'s0': 1}\n",
    "    },\n",
    "    's1': {\n",
    "        'a0': {'s2': 1}\n",
    "    },\n",
    "    's2': {\n",
    "        'a0': {'s1': 1}\n",
    "    }\n",
    "}\n",
    "\n",
    "rewards = {\n",
    "    's0': {'a1': {'s0': 0}},\n",
    "    's1': {'a0': {'s2': 1.07}},\n",
    "    's2': {'a0': {'s1': -1}}\n",
    "}\n",
    "\n",
    "from mdp import MDP\n",
    "mdp = MDP(transition_probs, rewards, initial_state='s0')"
   ]
  },
  {
   "cell_type": "markdown",
   "metadata": {},
   "source": [
    "Let's write a function called `compute_vpi` that computes the state-value function $V^{\\pi}$ for an arbitrary policy $\\pi$.\n",
    "\n",
    "Unlike VI, this time you must find the exact solution, not just a single iteration.\n",
    "\n",
    "Recall that $V^{\\pi}$ satisfies the following linear equation:\n",
    "$$V^{\\pi}(s) = \\sum_{s'} P(s,\\pi(s),s')[ R(s,\\pi(s),s') + \\gamma V^{\\pi}(s')]$$\n",
    "\n",
    "You'll have to solve a linear system in your code. (Find an exact solution, e.g., with `np.linalg.solve`.)"
   ]
  },
  {
   "cell_type": "code",
   "execution_count": 73,
   "metadata": {},
   "outputs": [],
   "source": [
    "import numpy as np\n",
    "\n",
    "def compute_vpi(mdp, policy, gamma):\n",
    "    \"\"\"\n",
    "    Computes V^pi(s) FOR ALL STATES under given policy.\n",
    "    :param policy: a dict of currently chosen actions {s : a}\n",
    "    :returns: a dict {state : V^pi(state) for all states}\n",
    "    \"\"\"\n",
    "    all_states = mdp.get_all_states()\n",
    "    matrix = np.zeros((len(all_states), len(all_states)))\n",
    "    vector = np.zeros(len(all_states))\n",
    "    states_indices = {state : i for i, state in enumerate(all_states)}\n",
    "    for row_index, state in enumerate(all_states):\n",
    "        state_index = states_indices[state]\n",
    "        assert(state_index == row_index)\n",
    "        matrix[row_index][state_index] -= 1\n",
    "        if (len(policy[state]) == 0):\n",
    "            continue\n",
    "        for to_state in mdp.get_next_states(state, policy[state]):\n",
    "            transition_probability = mdp.get_transition_prob(state, policy[state], to_state)\n",
    "            reward = mdp.get_reward(state, policy[state], to_state)\n",
    "            to_state_index = states_indices[to_state]\n",
    "            matrix[row_index][to_state_index] += transition_probability * gamma\n",
    "            vector[row_index] -= transition_probability * reward\n",
    "    result = np.linalg.solve(matrix, vector)\n",
    "    resulted_dict = {}\n",
    "    for index, state in enumerate(all_states):\n",
    "        resulted_dict[state] = result[index]\n",
    "    return resulted_dict"
   ]
  },
  {
   "cell_type": "code",
   "execution_count": 72,
   "metadata": {},
   "outputs": [
    {
     "ename": "ValueError",
     "evalue": "'a' cannot be empty unless no samples are taken",
     "output_type": "error",
     "traceback": [
      "\u001b[1;31m---------------------------------------------------------------------------\u001b[0m",
      "\u001b[1;31mValueError\u001b[0m                                Traceback (most recent call last)",
      "\u001b[1;32m<ipython-input-72-baa307f9a37e>\u001b[0m in \u001b[0;36m<module>\u001b[1;34m\u001b[0m\n\u001b[0;32m      2\u001b[0m \u001b[1;33m\u001b[0m\u001b[0m\n\u001b[0;32m      3\u001b[0m test_policy = {s: np.random.choice(\n\u001b[1;32m----> 4\u001b[1;33m     mdp.get_possible_actions(s)) for s in mdp.get_all_states()}\n\u001b[0m\u001b[0;32m      5\u001b[0m \u001b[0mnew_vpi\u001b[0m \u001b[1;33m=\u001b[0m \u001b[0mcompute_vpi\u001b[0m\u001b[1;33m(\u001b[0m\u001b[0mmdp\u001b[0m\u001b[1;33m,\u001b[0m \u001b[0mtest_policy\u001b[0m\u001b[1;33m,\u001b[0m \u001b[0mgamma\u001b[0m\u001b[1;33m)\u001b[0m\u001b[1;33m\u001b[0m\u001b[1;33m\u001b[0m\u001b[0m\n\u001b[0;32m      6\u001b[0m \u001b[1;33m\u001b[0m\u001b[0m\n",
      "\u001b[1;32m<ipython-input-72-baa307f9a37e>\u001b[0m in \u001b[0;36m<dictcomp>\u001b[1;34m(.0)\u001b[0m\n\u001b[0;32m      2\u001b[0m \u001b[1;33m\u001b[0m\u001b[0m\n\u001b[0;32m      3\u001b[0m test_policy = {s: np.random.choice(\n\u001b[1;32m----> 4\u001b[1;33m     mdp.get_possible_actions(s)) for s in mdp.get_all_states()}\n\u001b[0m\u001b[0;32m      5\u001b[0m \u001b[0mnew_vpi\u001b[0m \u001b[1;33m=\u001b[0m \u001b[0mcompute_vpi\u001b[0m\u001b[1;33m(\u001b[0m\u001b[0mmdp\u001b[0m\u001b[1;33m,\u001b[0m \u001b[0mtest_policy\u001b[0m\u001b[1;33m,\u001b[0m \u001b[0mgamma\u001b[0m\u001b[1;33m)\u001b[0m\u001b[1;33m\u001b[0m\u001b[1;33m\u001b[0m\u001b[0m\n\u001b[0;32m      6\u001b[0m \u001b[1;33m\u001b[0m\u001b[0m\n",
      "\u001b[1;32mmtrand.pyx\u001b[0m in \u001b[0;36mmtrand.RandomState.choice\u001b[1;34m()\u001b[0m\n",
      "\u001b[1;31mValueError\u001b[0m: 'a' cannot be empty unless no samples are taken"
     ]
    }
   ],
   "source": [
    "gamma = 0.9\n",
    "\n",
    "test_policy = {s: np.random.choice(\n",
    "    mdp.get_possible_actions(s)) for s in mdp.get_all_states()}\n",
    "new_vpi = compute_vpi(mdp, test_policy, gamma)\n",
    "\n",
    "print(new_vpi)\n",
    "\n",
    "assert type(\n",
    "    new_vpi) is dict, \"compute_vpi must return a dict {state : V^pi(state) for all states}\""
   ]
  },
  {
   "cell_type": "markdown",
   "metadata": {},
   "source": [
    "Once we've got new state values, it's time to update our policy."
   ]
  },
  {
   "cell_type": "code",
   "execution_count": 82,
   "metadata": {},
   "outputs": [],
   "source": [
    "def compute_new_policy(mdp, vpi, gamma):\n",
    "    \"\"\"\n",
    "    Computes new policy as argmax of state values\n",
    "    :param vpi: a dict {state : V^pi(state) for all states}\n",
    "    :returns: a dict {state : optimal action for all states}\n",
    "    \"\"\"\n",
    "    new_policy = {state: get_optimal_action(mdp, vpi, state, gamma) if len(mdp.get_possible_actions(s)) > 0 else '' \n",
    "                  for state in mdp.get_all_states()}\n",
    "    return new_policy"
   ]
  },
  {
   "cell_type": "code",
   "execution_count": 83,
   "metadata": {},
   "outputs": [
    {
     "name": "stdout",
     "output_type": "stream",
     "text": [
      "{(0, 0): '', (0, 1): '', (0, 2): '', (0, 3): '', (1, 0): '', (1, 1): '', (1, 2): '', (1, 3): '', (2, 0): '', (2, 1): '', (2, 2): '', (2, 3): '', (3, 0): '', (3, 1): '', (3, 2): '', (3, 3): ''}\n"
     ]
    }
   ],
   "source": [
    "new_policy = compute_new_policy(mdp, new_vpi, gamma)\n",
    "\n",
    "print(new_policy)\n",
    "\n",
    "assert type(\n",
    "    new_policy) is dict, \"compute_new_policy must return a dict {state : optimal action for all states}\""
   ]
  },
  {
   "cell_type": "markdown",
   "metadata": {},
   "source": [
    "__Main loop__"
   ]
  },
  {
   "cell_type": "code",
   "execution_count": 84,
   "metadata": {},
   "outputs": [],
   "source": [
    "def policy_iteration(mdp, policy=None, gamma=0.9, num_iter=1000, min_difference=1e-5):\n",
    "    \"\"\" \n",
    "    Run the policy iteration loop for num_iter iterations or till difference between V(s) is below min_difference.\n",
    "    If policy is not given, initialize it at random.\n",
    "    \"\"\"\n",
    "    if policy is None:\n",
    "        policy = {s: np.random.choice(mdp.get_possible_actions(s)) if len(mdp.get_possible_actions(s)) > 0 else '' \n",
    "                  for s in mdp.get_all_states() \n",
    "                  }\n",
    "    previous_vpi = None\n",
    "    for iteration in range(num_iter):\n",
    "        print(\"Iteration #{0}\".format(iteration))\n",
    "        vpi = compute_vpi(mdp, policy, gamma)\n",
    "        biggest_difference = None\n",
    "        if (not (previous_vpi is None)):\n",
    "            for state in mdp.get_all_states():\n",
    "                if (biggest_difference is None) or abs(vpi[state] - previous_vpi[state]) > biggest_difference:\n",
    "                    biggest_difference = abs(vpi[state] - previous_vpi[state])\n",
    "            if biggest_difference < min_difference:\n",
    "                break\n",
    "            print(\"Iteration #{0}, max difference = {1}\".format(iteration, biggest_difference))\n",
    "        policy = compute_new_policy(mdp, vpi, gamma)\n",
    "        previous_vpi = vpi\n",
    "        \n",
    "    return state_values, policy"
   ]
  },
  {
   "cell_type": "markdown",
   "metadata": {},
   "source": [
    "__Your PI Results__"
   ]
  },
  {
   "cell_type": "code",
   "execution_count": 85,
   "metadata": {},
   "outputs": [],
   "source": [
    "def compare_value_and_policy_iteration(mdp):\n",
    "    gamma = 0.95\n",
    "    min_difference = 1e-3\n",
    "\n",
    "    print(\"Run value iteration.\")\n",
    "    vi_state_values = value_iteration(mdp, gamma=gamma, min_difference=min_difference)\n",
    "\n",
    "    print(\"Run policy iteration.\")\n",
    "    pi_state_values, resulted_policy = policy_iteration(mdp, gamma=gamma, min_difference=min_difference)\n",
    "\n",
    "    for state in mdp.get_all_states():\n",
    "        print(\"State {0}\".format(state))\n",
    "        print(\"Value iteration value: {0}\".format(vi_state_values[state]))\n",
    "        print(\"Policy iteration value: {0}\".format(pi_state_values[state]))\n",
    "        print()"
   ]
  },
  {
   "cell_type": "code",
   "execution_count": 86,
   "metadata": {},
   "outputs": [
    {
     "name": "stdout",
     "output_type": "stream",
     "text": [
      "Run value iteration.\n",
      "iter    0   |   diff: 1.00000   |   V(start): 0.000 \n",
      "iter    1   |   diff: 0.95000   |   V(start): 0.000 \n",
      "iter    2   |   diff: 0.90250   |   V(start): 0.000 \n",
      "iter    3   |   diff: 0.85737   |   V(start): 0.000 \n",
      "iter    4   |   diff: 0.81451   |   V(start): 0.000 \n",
      "iter    5   |   diff: 0.77378   |   V(start): 0.774 \n",
      "iter    6   |   diff: 0.00000   |   V(start): 0.774 \n",
      "Run policy iteration.\n",
      "Iteration #0\n",
      "Iteration #1\n",
      "State (0, 0)\n",
      "Value iteration value: 0.7737809374999999\n"
     ]
    },
    {
     "ename": "KeyError",
     "evalue": "(0, 0)",
     "output_type": "error",
     "traceback": [
      "\u001b[1;31m---------------------------------------------------------------------------\u001b[0m",
      "\u001b[1;31mKeyError\u001b[0m                                  Traceback (most recent call last)",
      "\u001b[1;32m<ipython-input-86-3056c20872e2>\u001b[0m in \u001b[0;36m<module>\u001b[1;34m\u001b[0m\n\u001b[1;32m----> 1\u001b[1;33m \u001b[0mcompare_value_and_policy_iteration\u001b[0m\u001b[1;33m(\u001b[0m\u001b[0mmdp\u001b[0m\u001b[1;33m)\u001b[0m\u001b[1;33m\u001b[0m\u001b[1;33m\u001b[0m\u001b[0m\n\u001b[0m",
      "\u001b[1;32m<ipython-input-85-e813138e2780>\u001b[0m in \u001b[0;36mcompare_value_and_policy_iteration\u001b[1;34m(mdp)\u001b[0m\n\u001b[0;32m     12\u001b[0m         \u001b[0mprint\u001b[0m\u001b[1;33m(\u001b[0m\u001b[1;34m\"State {0}\"\u001b[0m\u001b[1;33m.\u001b[0m\u001b[0mformat\u001b[0m\u001b[1;33m(\u001b[0m\u001b[0mstate\u001b[0m\u001b[1;33m)\u001b[0m\u001b[1;33m)\u001b[0m\u001b[1;33m\u001b[0m\u001b[1;33m\u001b[0m\u001b[0m\n\u001b[0;32m     13\u001b[0m         \u001b[0mprint\u001b[0m\u001b[1;33m(\u001b[0m\u001b[1;34m\"Value iteration value: {0}\"\u001b[0m\u001b[1;33m.\u001b[0m\u001b[0mformat\u001b[0m\u001b[1;33m(\u001b[0m\u001b[0mvi_state_values\u001b[0m\u001b[1;33m[\u001b[0m\u001b[0mstate\u001b[0m\u001b[1;33m]\u001b[0m\u001b[1;33m)\u001b[0m\u001b[1;33m)\u001b[0m\u001b[1;33m\u001b[0m\u001b[1;33m\u001b[0m\u001b[0m\n\u001b[1;32m---> 14\u001b[1;33m         \u001b[0mprint\u001b[0m\u001b[1;33m(\u001b[0m\u001b[1;34m\"Policy iteration value: {0}\"\u001b[0m\u001b[1;33m.\u001b[0m\u001b[0mformat\u001b[0m\u001b[1;33m(\u001b[0m\u001b[0mpi_state_values\u001b[0m\u001b[1;33m[\u001b[0m\u001b[0mstate\u001b[0m\u001b[1;33m]\u001b[0m\u001b[1;33m)\u001b[0m\u001b[1;33m)\u001b[0m\u001b[1;33m\u001b[0m\u001b[1;33m\u001b[0m\u001b[0m\n\u001b[0m\u001b[0;32m     15\u001b[0m         \u001b[0mprint\u001b[0m\u001b[1;33m(\u001b[0m\u001b[1;33m)\u001b[0m\u001b[1;33m\u001b[0m\u001b[1;33m\u001b[0m\u001b[0m\n",
      "\u001b[1;31mKeyError\u001b[0m: (0, 0)"
     ]
    }
   ],
   "source": [
    "compare_value_and_policy_iteration(mdp)"
   ]
  },
  {
   "cell_type": "markdown",
   "metadata": {},
   "source": [
    "Получили 136 итераций у value_iteration против 2 у policy_iteration.\n",
    "\n",
    "Теперь черёд FrozenLake"
   ]
  },
  {
   "cell_type": "code",
   "execution_count": 62,
   "metadata": {},
   "outputs": [
    {
     "name": "stdout",
     "output_type": "stream",
     "text": [
      "*FFF\n",
      "FHFH\n",
      "FFFH\n",
      "HFFG\n",
      "\n"
     ]
    }
   ],
   "source": [
    "from mdp import FrozenLakeEnv\n",
    "mdp = FrozenLakeEnv(slip_chance=0)\n",
    "\n",
    "mdp.render()"
   ]
  },
  {
   "cell_type": "code",
   "execution_count": 64,
   "metadata": {},
   "outputs": [
    {
     "name": "stdout",
     "output_type": "stream",
     "text": [
      "(0, 0):4\n",
      "(0, 1):4\n",
      "(0, 2):4\n",
      "(0, 3):4\n",
      "(1, 0):4\n",
      "(1, 1):0\n",
      "(1, 2):4\n",
      "(1, 3):0\n",
      "(2, 0):4\n",
      "(2, 1):4\n",
      "(2, 2):4\n",
      "(2, 3):0\n",
      "(3, 0):0\n",
      "(3, 1):4\n",
      "(3, 2):4\n",
      "(3, 3):0\n"
     ]
    }
   ],
   "source": [
    "for s in mdp.get_all_states():\n",
    "    print('{0}:{1}'.format(s, len(mdp.get_possible_actions(s))))"
   ]
  },
  {
   "cell_type": "code",
   "execution_count": 63,
   "metadata": {},
   "outputs": [
    {
     "name": "stdout",
     "output_type": "stream",
     "text": [
      "Run value iteration.\n",
      "iter    0   |   diff: 1.00000   |   V(start): 0.000 \n",
      "iter    1   |   diff: 0.95000   |   V(start): 0.000 \n",
      "iter    2   |   diff: 0.90250   |   V(start): 0.000 \n",
      "iter    3   |   diff: 0.85737   |   V(start): 0.000 \n",
      "iter    4   |   diff: 0.81451   |   V(start): 0.000 \n",
      "iter    5   |   diff: 0.77378   |   V(start): 0.774 \n",
      "iter    6   |   diff: 0.00000   |   V(start): 0.774 \n",
      "Run policy iteration.\n"
     ]
    },
    {
     "ename": "ValueError",
     "evalue": "'a' cannot be empty unless no samples are taken",
     "output_type": "error",
     "traceback": [
      "\u001b[1;31m---------------------------------------------------------------------------\u001b[0m",
      "\u001b[1;31mValueError\u001b[0m                                Traceback (most recent call last)",
      "\u001b[1;32m<ipython-input-63-3056c20872e2>\u001b[0m in \u001b[0;36m<module>\u001b[1;34m\u001b[0m\n\u001b[1;32m----> 1\u001b[1;33m \u001b[0mcompare_value_and_policy_iteration\u001b[0m\u001b[1;33m(\u001b[0m\u001b[0mmdp\u001b[0m\u001b[1;33m)\u001b[0m\u001b[1;33m\u001b[0m\u001b[1;33m\u001b[0m\u001b[0m\n\u001b[0m",
      "\u001b[1;32m<ipython-input-59-e813138e2780>\u001b[0m in \u001b[0;36mcompare_value_and_policy_iteration\u001b[1;34m(mdp)\u001b[0m\n\u001b[0;32m      7\u001b[0m \u001b[1;33m\u001b[0m\u001b[0m\n\u001b[0;32m      8\u001b[0m     \u001b[0mprint\u001b[0m\u001b[1;33m(\u001b[0m\u001b[1;34m\"Run policy iteration.\"\u001b[0m\u001b[1;33m)\u001b[0m\u001b[1;33m\u001b[0m\u001b[1;33m\u001b[0m\u001b[0m\n\u001b[1;32m----> 9\u001b[1;33m     \u001b[0mpi_state_values\u001b[0m\u001b[1;33m,\u001b[0m \u001b[0mresulted_policy\u001b[0m \u001b[1;33m=\u001b[0m \u001b[0mpolicy_iteration\u001b[0m\u001b[1;33m(\u001b[0m\u001b[0mmdp\u001b[0m\u001b[1;33m,\u001b[0m \u001b[0mgamma\u001b[0m\u001b[1;33m=\u001b[0m\u001b[0mgamma\u001b[0m\u001b[1;33m,\u001b[0m \u001b[0mmin_difference\u001b[0m\u001b[1;33m=\u001b[0m\u001b[0mmin_difference\u001b[0m\u001b[1;33m)\u001b[0m\u001b[1;33m\u001b[0m\u001b[1;33m\u001b[0m\u001b[0m\n\u001b[0m\u001b[0;32m     10\u001b[0m \u001b[1;33m\u001b[0m\u001b[0m\n\u001b[0;32m     11\u001b[0m     \u001b[1;32mfor\u001b[0m \u001b[0mstate\u001b[0m \u001b[1;32min\u001b[0m \u001b[0mmdp\u001b[0m\u001b[1;33m.\u001b[0m\u001b[0mget_all_states\u001b[0m\u001b[1;33m(\u001b[0m\u001b[1;33m)\u001b[0m\u001b[1;33m:\u001b[0m\u001b[1;33m\u001b[0m\u001b[1;33m\u001b[0m\u001b[0m\n",
      "\u001b[1;32m<ipython-input-53-ab34f760a174>\u001b[0m in \u001b[0;36mpolicy_iteration\u001b[1;34m(mdp, policy, gamma, num_iter, min_difference)\u001b[0m\n\u001b[0;32m      5\u001b[0m     \"\"\"\n\u001b[0;32m      6\u001b[0m     \u001b[1;32mif\u001b[0m \u001b[0mpolicy\u001b[0m \u001b[1;32mis\u001b[0m \u001b[1;32mNone\u001b[0m\u001b[1;33m:\u001b[0m\u001b[1;33m\u001b[0m\u001b[1;33m\u001b[0m\u001b[0m\n\u001b[1;32m----> 7\u001b[1;33m         \u001b[0mpolicy\u001b[0m \u001b[1;33m=\u001b[0m \u001b[1;33m{\u001b[0m\u001b[0ms\u001b[0m\u001b[1;33m:\u001b[0m \u001b[0mnp\u001b[0m\u001b[1;33m.\u001b[0m\u001b[0mrandom\u001b[0m\u001b[1;33m.\u001b[0m\u001b[0mchoice\u001b[0m\u001b[1;33m(\u001b[0m\u001b[0mmdp\u001b[0m\u001b[1;33m.\u001b[0m\u001b[0mget_possible_actions\u001b[0m\u001b[1;33m(\u001b[0m\u001b[0ms\u001b[0m\u001b[1;33m)\u001b[0m\u001b[1;33m)\u001b[0m \u001b[1;32mfor\u001b[0m \u001b[0ms\u001b[0m \u001b[1;32min\u001b[0m \u001b[0mmdp\u001b[0m\u001b[1;33m.\u001b[0m\u001b[0mget_all_states\u001b[0m\u001b[1;33m(\u001b[0m\u001b[1;33m)\u001b[0m\u001b[1;33m}\u001b[0m\u001b[1;33m\u001b[0m\u001b[1;33m\u001b[0m\u001b[0m\n\u001b[0m\u001b[0;32m      8\u001b[0m     \u001b[0mprevious_vpi\u001b[0m \u001b[1;33m=\u001b[0m \u001b[1;32mNone\u001b[0m\u001b[1;33m\u001b[0m\u001b[1;33m\u001b[0m\u001b[0m\n\u001b[0;32m      9\u001b[0m     \u001b[1;32mfor\u001b[0m \u001b[0miteration\u001b[0m \u001b[1;32min\u001b[0m \u001b[0mrange\u001b[0m\u001b[1;33m(\u001b[0m\u001b[0mnum_iter\u001b[0m\u001b[1;33m)\u001b[0m\u001b[1;33m:\u001b[0m\u001b[1;33m\u001b[0m\u001b[1;33m\u001b[0m\u001b[0m\n",
      "\u001b[1;32m<ipython-input-53-ab34f760a174>\u001b[0m in \u001b[0;36m<dictcomp>\u001b[1;34m(.0)\u001b[0m\n\u001b[0;32m      5\u001b[0m     \"\"\"\n\u001b[0;32m      6\u001b[0m     \u001b[1;32mif\u001b[0m \u001b[0mpolicy\u001b[0m \u001b[1;32mis\u001b[0m \u001b[1;32mNone\u001b[0m\u001b[1;33m:\u001b[0m\u001b[1;33m\u001b[0m\u001b[1;33m\u001b[0m\u001b[0m\n\u001b[1;32m----> 7\u001b[1;33m         \u001b[0mpolicy\u001b[0m \u001b[1;33m=\u001b[0m \u001b[1;33m{\u001b[0m\u001b[0ms\u001b[0m\u001b[1;33m:\u001b[0m \u001b[0mnp\u001b[0m\u001b[1;33m.\u001b[0m\u001b[0mrandom\u001b[0m\u001b[1;33m.\u001b[0m\u001b[0mchoice\u001b[0m\u001b[1;33m(\u001b[0m\u001b[0mmdp\u001b[0m\u001b[1;33m.\u001b[0m\u001b[0mget_possible_actions\u001b[0m\u001b[1;33m(\u001b[0m\u001b[0ms\u001b[0m\u001b[1;33m)\u001b[0m\u001b[1;33m)\u001b[0m \u001b[1;32mfor\u001b[0m \u001b[0ms\u001b[0m \u001b[1;32min\u001b[0m \u001b[0mmdp\u001b[0m\u001b[1;33m.\u001b[0m\u001b[0mget_all_states\u001b[0m\u001b[1;33m(\u001b[0m\u001b[1;33m)\u001b[0m\u001b[1;33m}\u001b[0m\u001b[1;33m\u001b[0m\u001b[1;33m\u001b[0m\u001b[0m\n\u001b[0m\u001b[0;32m      8\u001b[0m     \u001b[0mprevious_vpi\u001b[0m \u001b[1;33m=\u001b[0m \u001b[1;32mNone\u001b[0m\u001b[1;33m\u001b[0m\u001b[1;33m\u001b[0m\u001b[0m\n\u001b[0;32m      9\u001b[0m     \u001b[1;32mfor\u001b[0m \u001b[0miteration\u001b[0m \u001b[1;32min\u001b[0m \u001b[0mrange\u001b[0m\u001b[1;33m(\u001b[0m\u001b[0mnum_iter\u001b[0m\u001b[1;33m)\u001b[0m\u001b[1;33m:\u001b[0m\u001b[1;33m\u001b[0m\u001b[1;33m\u001b[0m\u001b[0m\n",
      "\u001b[1;32mmtrand.pyx\u001b[0m in \u001b[0;36mmtrand.RandomState.choice\u001b[1;34m()\u001b[0m\n",
      "\u001b[1;31mValueError\u001b[0m: 'a' cannot be empty unless no samples are taken"
     ]
    }
   ],
   "source": [
    "compare_value_and_policy_iteration(mdp)"
   ]
  },
  {
   "cell_type": "code",
   "execution_count": null,
   "metadata": {},
   "outputs": [],
   "source": []
  }
 ],
 "metadata": {
  "kernelspec": {
   "display_name": "Python 3",
   "language": "python",
   "name": "python3"
  },
  "language_info": {
   "codemirror_mode": {
    "name": "ipython",
    "version": 3
   },
   "file_extension": ".py",
   "mimetype": "text/x-python",
   "name": "python",
   "nbconvert_exporter": "python",
   "pygments_lexer": "ipython3",
   "version": "3.7.4"
  }
 },
 "nbformat": 4,
 "nbformat_minor": 2
}
