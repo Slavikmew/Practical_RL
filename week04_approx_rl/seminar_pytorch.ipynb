{
  "nbformat": 4,
  "nbformat_minor": 0,
  "metadata": {
    "colab": {
      "name": "seminar_pytorch.ipynb",
      "provenance": []
    },
    "kernelspec": {
      "name": "python3",
      "display_name": "Python 3"
    }
  },
<<<<<<< HEAD
  "cells": [
    {
      "cell_type": "markdown",
      "metadata": {
        "id": "L8Ha-jdthEB0",
        "colab_type": "text"
      },
      "source": [
        "# Approximate q-learning\n",
        "\n",
        "In this notebook you will teach a __pytorch__ neural network to do Q-learning."
      ]
    },
    {
      "cell_type": "code",
      "metadata": {
        "id": "iN__cWxZhEB4",
        "colab_type": "code",
        "colab": {
          "base_uri": "https://localhost:8080/",
          "height": 34
        },
        "outputId": "f67d01de-92fb-492b-b29c-b6d9c1c8a3bd"
      },
      "source": [
        "# in google colab uncomment this\n",
        "\n",
        "import os\n",
        "\n",
        "os.system('apt-get update')\n",
        "os.system('apt-get install -y xvfb')\n",
        "os.system('wget https://raw.githubusercontent.com/yandexdataschool/Practical_DL/fall18/xvfb -O ../xvfb')\n",
        "os.system('apt-get install -y python-opengl ffmpeg')\n",
        "os.system('pip install pyglet==1.5.0')\n",
        "\n",
        "# XVFB will be launched if you run on a server\n",
        "import os\n",
        "if type(os.environ.get(\"DISPLAY\")) is not str or len(os.environ.get(\"DISPLAY\")) == 0:\n",
        "    !bash ../xvfb start\n",
        "    os.environ['DISPLAY'] = ':1'"
      ],
      "execution_count": 1,
      "outputs": [
        {
          "output_type": "stream",
          "text": [
            "Starting virtual X frame buffer: Xvfb.\n"
          ],
          "name": "stdout"
        }
      ]
    },
    {
      "cell_type": "code",
      "metadata": {
        "id": "qG6oRIMmhEB_",
        "colab_type": "code",
        "colab": {}
      },
      "source": [
        "import gym\n",
        "import numpy as np\n",
        "import pandas as pd\n",
        "import matplotlib.pyplot as plt\n",
        "%matplotlib inline"
      ],
      "execution_count": 0,
      "outputs": []
    },
    {
      "cell_type": "code",
      "metadata": {
        "id": "I0myXAPjhECE",
        "colab_type": "code",
        "colab": {
          "base_uri": "https://localhost:8080/",
          "height": 303
        },
        "outputId": "3ce14874-d965-4168-87eb-5603426954cc"
      },
      "source": [
        "env = gym.make(\"CartPole-v0\").env\n",
        "env.reset()\n",
        "n_actions = env.action_space.n\n",
        "state_dim = env.observation_space.shape\n",
        "\n",
        "plt.imshow(env.render(\"rgb_array\"))\n",
        "env.close()"
      ],
      "execution_count": 3,
      "outputs": [
        {
          "output_type": "stream",
          "text": [
            "/usr/local/lib/python3.6/dist-packages/gym/logger.py:30: UserWarning: \u001b[33mWARN: Box bound precision lowered by casting to float32\u001b[0m\n",
            "  warnings.warn(colorize('%s: %s'%('WARN', msg % args), 'yellow'))\n"
          ],
          "name": "stderr"
        },
        {
          "output_type": "display_data",
          "data": {
            "image/png": "iVBORw0KGgoAAAANSUhEUgAAAW4AAAD8CAYAAABXe05zAAAABHNCSVQICAgIfAhkiAAAAAlwSFlz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\n",
            "text/plain": [
              "<Figure size 432x288 with 1 Axes>"
            ]
          },
          "metadata": {
            "tags": []
          }
        }
      ]
    },
    {
      "cell_type": "markdown",
      "metadata": {
        "id": "r_5tjEZGhECK",
        "colab_type": "text"
      },
      "source": [
        "# Approximate Q-learning: building the network\n",
        "\n",
        "To train a neural network policy one must have a neural network policy. Let's build it.\n",
        "\n",
        "\n",
        "Since we're working with a pre-extracted features (cart positions, angles and velocities), we don't need a complicated network yet. In fact, let's build something like this for starters:\n",
        "\n",
        "![img](https://raw.githubusercontent.com/yandexdataschool/Practical_RL/master/yet_another_week/_resource/qlearning_scheme.png)\n",
        "\n",
        "For your first run, please only use linear layers (nn.Linear) and activations. Stuff like batch normalization or dropout may ruin everything if used haphazardly. \n",
        "\n",
        "Also please avoid using nonlinearities like sigmoid & tanh: agent's observations are not normalized so sigmoids may become saturated from init.\n",
        "\n",
        "Ideally you should start small with maybe 1-2 hidden layers with < 200 neurons and then increase network size if agent doesn't beat the target score."
      ]
    },
    {
      "cell_type": "code",
      "metadata": {
        "id": "q0NoyjajhECM",
        "colab_type": "code",
        "colab": {}
      },
      "source": [
        "import torch\n",
        "import torch.nn as nn\n",
        "import torch.nn.functional as F"
      ],
      "execution_count": 0,
      "outputs": []
    },
    {
      "cell_type": "code",
      "metadata": {
        "id": "uMtqOaDIhECS",
        "colab_type": "code",
        "colab": {}
      },
      "source": [
        "network = nn.Sequential()\n",
        "\n",
        "network.add_module('layer1', < ... >)\n",
        "\n",
        "<YOUR CODE: stack layers!!!1 >\n",
        "\n",
        "# hint: use state_dim[0] as input size"
      ],
      "execution_count": 0,
      "outputs": []
    },
    {
      "cell_type": "code",
      "metadata": {
        "id": "turHm4gfhECd",
        "colab_type": "code",
        "colab": {}
      },
      "source": [
        "def get_action(state, epsilon=0):\n",
        "    \"\"\"\n",
        "    sample actions with epsilon-greedy policy\n",
        "    recap: with p = epsilon pick random action, else pick action with highest Q(s,a)\n",
        "    \"\"\"\n",
        "    state = torch.tensor(state[None], dtype=torch.float32)\n",
        "    q_values = network(state).detach().numpy()\n",
        "\n",
        "    # YOUR CODE\n",
        "\n",
        "    return int( < epsilon-greedily selected action > )"
      ],
      "execution_count": 0,
      "outputs": []
    },
    {
      "cell_type": "code",
      "metadata": {
        "id": "lCIZsXRUhECj",
        "colab_type": "code",
        "colab": {}
      },
      "source": [
        "s = env.reset()\n",
        "assert tuple(network(torch.tensor([s]*3, dtype=torch.float32)).size()) == (\n",
        "    3, n_actions), \"please make sure your model maps state s -> [Q(s,a0), ..., Q(s, a_last)]\"\n",
        "assert isinstance(list(network.modules(\n",
        "))[-1], nn.Linear), \"please make sure you predict q-values without nonlinearity (ignore if you know what you're doing)\"\n",
        "assert isinstance(get_action(\n",
        "    s), int), \"get_action(s) must return int, not %s. try int(action)\" % (type(get_action(s)))\n",
        "\n",
        "# test epsilon-greedy exploration\n",
        "for eps in [0., 0.1, 0.5, 1.0]:\n",
        "    state_frequencies = np.bincount(\n",
        "        [get_action(s, epsilon=eps) for i in range(10000)], minlength=n_actions)\n",
        "    best_action = state_frequencies.argmax()\n",
        "    assert abs(state_frequencies[best_action] -\n",
        "               10000 * (1 - eps + eps / n_actions)) < 200\n",
        "    for other_action in range(n_actions):\n",
        "        if other_action != best_action:\n",
        "            assert abs(state_frequencies[other_action] -\n",
        "                       10000 * (eps / n_actions)) < 200\n",
        "    print('e=%.1f tests passed' % eps)"
      ],
      "execution_count": 0,
      "outputs": []
    },
    {
      "cell_type": "markdown",
      "metadata": {
        "id": "sQbhj_lYhECo",
        "colab_type": "text"
      },
      "source": [
        "### Q-learning via gradient descent\n",
        "\n",
        "We shall now train our agent's Q-function by minimizing the TD loss:\n",
        "$$ L = { 1 \\over N} \\sum_i (Q_{\\theta}(s,a) - [r(s,a) + \\gamma \\cdot max_{a'} Q_{-}(s', a')]) ^2 $$\n",
        "\n",
        "\n",
        "Where\n",
        "* $s, a, r, s'$ are current state, action, reward and next state respectively\n",
        "* $\\gamma$ is a discount factor defined two cells above.\n",
        "\n",
        "The tricky part is with  $Q_{-}(s',a')$. From an engineering standpoint, it's the same as $Q_{\\theta}$ - the output of your neural network policy. However, when doing gradient descent, __we won't propagate gradients through it__ to make training more stable (see lectures).\n",
        "\n",
        "To do so, we shall use `x.detach()` function which basically says \"consider this thing constant when doingbackprop\"."
      ]
    },
    {
      "cell_type": "code",
      "metadata": {
        "id": "cVHTh-cHhECp",
        "colab_type": "code",
        "colab": {}
      },
      "source": [
        "def to_one_hot(y_tensor, n_dims=None):\n",
        "    \"\"\" helper: take an integer vector and convert it to 1-hot matrix. \"\"\"\n",
        "    y_tensor = y_tensor.type(torch.LongTensor).view(-1, 1)\n",
        "    n_dims = n_dims if n_dims is not None else int(torch.max(y_tensor)) + 1\n",
        "    y_one_hot = torch.zeros(\n",
        "        y_tensor.size()[0], n_dims).scatter_(1, y_tensor, 1)\n",
        "    return y_one_hot\n",
        "\n",
        "\n",
        "def where(cond, x_1, x_2):\n",
        "    \"\"\" helper: like np.where but in pytorch. \"\"\"\n",
        "    return (cond * x_1) + ((1-cond) * x_2)"
      ],
      "execution_count": 0,
      "outputs": []
    },
    {
      "cell_type": "code",
      "metadata": {
        "id": "qHVSnQ6QhECu",
        "colab_type": "code",
        "colab": {}
      },
      "source": [
        "def compute_td_loss(states, actions, rewards, next_states, is_done, gamma=0.99, check_shapes=False):\n",
        "    \"\"\" Compute td loss using torch operations only. Use the formula above. \"\"\"\n",
        "    states = torch.tensor(\n",
        "        states, dtype=torch.float32)    # shape: [batch_size, state_size]\n",
        "    actions = torch.tensor(actions, dtype=torch.int32)    # shape: [batch_size]\n",
        "    rewards = torch.tensor(rewards, dtype=torch.float32)  # shape: [batch_size]\n",
        "    # shape: [batch_size, state_size]\n",
        "    next_states = torch.tensor(next_states, dtype=torch.float32)\n",
        "    is_done = torch.tensor(is_done, dtype=torch.float32)  # shape: [batch_size]\n",
        "\n",
        "    # get q-values for all actions in current states\n",
        "    predicted_qvalues = network(states)\n",
        "\n",
        "    # select q-values for chosen actions\n",
        "    predicted_qvalues_for_actions = torch.sum(\n",
        "        predicted_qvalues * to_one_hot(actions, n_actions), dim=1)\n",
        "\n",
        "    # compute q-values for all actions in next states\n",
        "    predicted_next_qvalues =  # YOUR CODE\n",
        "\n",
        "    # compute V*(next_states) using predicted next q-values\n",
        "    next_state_values =  # YOUR CODE\n",
        "    assert next_state_values.dtype == torch.float32\n",
        "\n",
        "    # compute \"target q-values\" for loss - it's what's inside square parentheses in the above formula.\n",
        "    target_qvalues_for_actions =  # YOUR CODE\n",
        "\n",
        "    # at the last state we shall use simplified formula: Q(s,a) = r(s,a) since s' doesn't exist\n",
        "    target_qvalues_for_actions = where(\n",
        "        is_done, rewards, target_qvalues_for_actions)\n",
        "\n",
        "    # mean squared error loss to minimize\n",
        "    loss = torch.mean((predicted_qvalues_for_actions -\n",
        "                       target_qvalues_for_actions.detach()) ** 2)\n",
        "\n",
        "    if check_shapes:\n",
        "        assert predicted_next_qvalues.data.dim(\n",
        "        ) == 2, \"make sure you predicted q-values for all actions in next state\"\n",
        "        assert next_state_values.data.dim(\n",
        "        ) == 1, \"make sure you computed V(s') as maximum over just the actions axis and not all axes\"\n",
        "        assert target_qvalues_for_actions.data.dim(\n",
        "        ) == 1, \"there's something wrong with target q-values, they must be a vector\"\n",
        "\n",
        "    return loss"
      ],
      "execution_count": 0,
      "outputs": []
    },
    {
      "cell_type": "code",
      "metadata": {
        "id": "p6iqsrTjhEC7",
        "colab_type": "code",
        "colab": {}
      },
      "source": [
        "# sanity checks\n",
        "s = env.reset()\n",
        "a = env.action_space.sample()\n",
        "next_s, r, done, _ = env.step(a)\n",
        "loss = compute_td_loss([s], [a], [r], [next_s], [done], check_shapes=True)\n",
        "loss.backward()\n",
        "\n",
        "assert len(loss.size()) == 0, \"you must return scalar loss - mean over batch\"\n",
        "assert np.any(next(network.parameters()).grad.detach().numpy() !=\n",
        "              0), \"loss must be differentiable w.r.t. network weights\""
      ],
      "execution_count": 0,
      "outputs": []
    },
    {
      "cell_type": "markdown",
      "metadata": {
        "id": "uLkU3A7vhEDA",
        "colab_type": "text"
      },
      "source": [
        "### Playing the game"
      ]
    },
    {
      "cell_type": "code",
      "metadata": {
        "id": "PNJUql5HhEDB",
        "colab_type": "code",
        "colab": {}
      },
      "source": [
        "opt = torch.optim.Adam(network.parameters(), lr=1e-4)\n",
        "epsilon = 0.5"
      ],
      "execution_count": 0,
      "outputs": []
    },
    {
      "cell_type": "code",
      "metadata": {
        "id": "7_aGAweihEDG",
        "colab_type": "code",
        "colab": {}
      },
      "source": [
        "def generate_session(t_max=1000, epsilon=0, train=False):\n",
        "    \"\"\"play env with approximate q-learning agent and train it at the same time\"\"\"\n",
        "    total_reward = 0\n",
        "    s = env.reset()\n",
        "\n",
        "    for t in range(t_max):\n",
        "        a = get_action(s, epsilon=epsilon)\n",
        "        next_s, r, done, _ = env.step(a)\n",
        "\n",
        "        if train:\n",
        "            opt.zero_grad()\n",
        "            compute_td_loss([s], [a], [r], [next_s], [done]).backward()\n",
        "            opt.step()\n",
        "\n",
        "        total_reward += r\n",
        "        s = next_s\n",
        "        if done:\n",
        "            break\n",
        "\n",
        "    return total_reward"
      ],
      "execution_count": 0,
      "outputs": []
    },
    {
      "cell_type": "code",
      "metadata": {
        "id": "__bEbYEnhEDL",
        "colab_type": "code",
        "colab": {}
      },
      "source": [
        "for i in range(1000):\n",
        "    session_rewards = [generate_session(\n",
        "        epsilon=epsilon, train=True) for _ in range(100)]\n",
        "    print(\"epoch #{}\\tmean reward = {:.3f}\\tepsilon = {:.3f}\".format(\n",
        "        i, np.mean(session_rewards), epsilon))\n",
        "\n",
        "    epsilon *= 0.99\n",
        "    assert epsilon >= 1e-4, \"Make sure epsilon is always nonzero during training\"\n",
        "\n",
        "    if np.mean(session_rewards) > 300:\n",
        "        print(\"You Win!\")\n",
        "        break"
      ],
      "execution_count": 0,
      "outputs": []
    },
    {
      "cell_type": "markdown",
      "metadata": {
        "id": "vLSh6RxUhEDQ",
        "colab_type": "text"
      },
      "source": [
        "### How to interpret results\n",
        "\n",
        "\n",
        "Welcome to the f.. world of deep f...n reinforcement learning. Don't expect agent's reward to smoothly go up. Hope for it to go increase eventually. If it deems you worthy.\n",
        "\n",
        "Seriously though,\n",
        "* __ mean reward__ is the average reward per game. For a correct implementation it may stay low for some 10 epochs, then start growing while oscilating insanely and converges by ~50-100 steps depending on the network architecture. \n",
        "* If it never reaches target score by the end of for loop, try increasing the number of hidden neurons or look at the epsilon.\n",
        "* __ epsilon__ - agent's willingness to explore. If you see that agent's already at < 0.01 epsilon before it's is at least 200, just reset it back to 0.1 - 0.5."
      ]
    },
    {
      "cell_type": "markdown",
      "metadata": {
        "id": "ShR9wTvehEDT",
        "colab_type": "text"
      },
      "source": [
        "### Record videos\n",
        "\n",
        "As usual, we now use `gym.wrappers.Monitor` to record a video of our agent playing the game. Unlike our previous attempts with state binarization, this time we expect our agent to act ~~(or fail)~~ more smoothly since there's no more binarization error at play.\n",
        "\n",
        "As you already did with tabular q-learning, we set epsilon=0 for final evaluation to prevent agent from exploring himself to death."
      ]
    },
    {
      "cell_type": "code",
      "metadata": {
        "id": "v2ZqyEE8hEDV",
        "colab_type": "code",
        "colab": {}
      },
      "source": [
        "# record sessions\n",
        "import gym.wrappers\n",
        "env = gym.wrappers.Monitor(gym.make(\"CartPole-v0\"),\n",
        "                           directory=\"videos\", force=True)\n",
        "sessions = [generate_session(epsilon=0, train=False) for _ in range(100)]\n",
        "env.close()"
      ],
      "execution_count": 0,
      "outputs": []
    },
    {
      "cell_type": "code",
      "metadata": {
        "id": "wjznEV5JhEDa",
        "colab_type": "code",
        "colab": {}
      },
      "source": [
        "# show video\n",
        "from IPython.display import HTML\n",
        "import os\n",
        "\n",
        "video_names = list(\n",
        "    filter(lambda s: s.endswith(\".mp4\"), os.listdir(\"./videos/\")))\n",
        "\n",
        "HTML(\"\"\"\n",
        "<video width=\"640\" height=\"480\" controls>\n",
        "  <source src=\"{}\" type=\"video/mp4\">\n",
        "</video>\n",
        "\"\"\".format(\"./videos/\"+video_names[-1]))  # this may or may not be _last_ video. Try other indices"
      ],
      "execution_count": 0,
      "outputs": []
    },
    {
      "cell_type": "code",
      "metadata": {
        "id": "NS3XimvohEDg",
        "colab_type": "code",
        "colab": {}
      },
      "source": [
        ""
      ],
      "execution_count": 0,
      "outputs": []
    }
  ]
}
=======
  {
   "cell_type": "code",
   "execution_count": 1,
   "metadata": {},
   "outputs": [],
   "source": [
    "# # in google colab uncomment this\n",
    "\n",
    "# import os\n",
    "\n",
    "# os.system('apt-get install -y xvfb')\n",
    "# os.system('wget https://raw.githubusercontent.com/yandexdataschool/Practical_DL/fall18/xvfb -O ../xvfb')\n",
    "# os.system('apt-get install -y python-opengl ffmpeg')\n",
    "# os.system('pip install pyglet==1.2.4')\n",
    "\n",
    "# XVFB will be launched if you run on a server\n",
    "import os\n",
    "if type(os.environ.get(\"DISPLAY\")) is not str or len(os.environ.get(\"DISPLAY\")) == 0:\n",
    "    !bash ../xvfb start\n",
    "    os.environ['DISPLAY'] = ':1'"
   ]
  },
  {
   "cell_type": "code",
   "execution_count": 3,
   "metadata": {},
   "outputs": [],
   "source": [
    "import gym\n",
    "import numpy as np\n",
    "import pandas as pd\n",
    "import matplotlib.pyplot as plt\n",
    "%matplotlib inline"
   ]
  },
  {
   "cell_type": "code",
   "execution_count": 4,
   "metadata": {},
   "outputs": [
    {
     "data": {
      "image/png": "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\n",
      "text/plain": [
       "<Figure size 432x288 with 1 Axes>"
      ]
     },
     "metadata": {
      "needs_background": "light"
     },
     "output_type": "display_data"
    }
   ],
   "source": [
    "env = gym.make(\"CartPole-v0\").env\n",
    "env.reset()\n",
    "n_actions = env.action_space.n\n",
    "state_dim = env.observation_space.shape\n",
    "\n",
    "plt.imshow(env.render(\"rgb_array\"))\n",
    "env.close()"
   ]
  },
  {
   "cell_type": "markdown",
   "metadata": {},
   "source": [
    "# Approximate Q-learning: building the network\n",
    "\n",
    "To train a neural network policy one must have a neural network policy. Let's build it.\n",
    "\n",
    "\n",
    "Since we're working with a pre-extracted features (cart positions, angles and velocities), we don't need a complicated network yet. In fact, let's build something like this for starters:\n",
    "\n",
    "![img](https://raw.githubusercontent.com/yandexdataschool/Practical_RL/master/yet_another_week/_resource/qlearning_scheme.png)\n",
    "\n",
    "For your first run, please only use linear layers (nn.Linear) and activations. Stuff like batch normalization or dropout may ruin everything if used haphazardly. \n",
    "\n",
    "Also please avoid using nonlinearities like sigmoid & tanh: agent's observations are not normalized so sigmoids may become saturated from init.\n",
    "\n",
    "Ideally you should start small with maybe 1-2 hidden layers with < 200 neurons and then increase network size if agent doesn't beat the target score."
   ]
  },
  {
   "cell_type": "code",
   "execution_count": 7,
   "metadata": {},
   "outputs": [],
   "source": [
    "import torch\n",
    "import torch.nn as nn\n",
    "import torch.nn.functional as F"
   ]
  },
  {
   "cell_type": "code",
   "execution_count": 8,
   "metadata": {},
   "outputs": [],
   "source": [
    "network = nn.Sequential()\n",
    "\n",
    "network.add_module('Linear_1', nn.Linear(state_dim[0], 32))\n",
    "network.add_module('ReLU_1', nn.ReLU())\n",
    "network.add_module('Linear_2', nn.Linear(32, 2))\n",
    "\n",
    "# hint: use state_dim[0] as input size"
   ]
  },
  {
   "cell_type": "code",
   "execution_count": 11,
   "metadata": {},
   "outputs": [],
   "source": [
    "def get_action(state, epsilon=0):\n",
    "    \"\"\"\n",
    "    sample actions with epsilon-greedy policy\n",
    "    recap: with p = epsilon pick random action, else pick action with highest Q(s,a)\n",
    "    \"\"\"\n",
    "    state = torch.tensor(state[None], dtype=torch.float32)\n",
    "    q_values = network(state).detach().numpy()\n",
    "    \n",
    "    action = np.argmax(q_values)\n",
    "    if np.random.rand() < epsilon:\n",
    "        action = env.action_space.sample()\n",
    "\n",
    "    return int(action)"
   ]
  },
  {
   "cell_type": "code",
   "execution_count": 12,
   "metadata": {},
   "outputs": [
    {
     "name": "stdout",
     "output_type": "stream",
     "text": [
      "e=0.0 tests passed\n",
      "e=0.1 tests passed\n",
      "e=0.5 tests passed\n",
      "e=1.0 tests passed\n"
     ]
    }
   ],
   "source": [
    "s = env.reset()\n",
    "assert tuple(network(torch.tensor([s]*3, dtype=torch.float32)).size()) == (\n",
    "    3, n_actions), \"please make sure your model maps state s -> [Q(s,a0), ..., Q(s, a_last)]\"\n",
    "assert isinstance(list(network.modules(\n",
    "))[-1], nn.Linear), \"please make sure you predict q-values without nonlinearity (ignore if you know what you're doing)\"\n",
    "assert isinstance(get_action(\n",
    "    s), int), \"get_action(s) must return int, not %s. try int(action)\" % (type(get_action(s)))\n",
    "\n",
    "# test epsilon-greedy exploration\n",
    "for eps in [0., 0.1, 0.5, 1.0]:\n",
    "    state_frequencies = np.bincount(\n",
    "        [get_action(s, epsilon=eps) for i in range(10000)], minlength=n_actions)\n",
    "    best_action = state_frequencies.argmax()\n",
    "    assert abs(state_frequencies[best_action] -\n",
    "               10000 * (1 - eps + eps / n_actions)) < 200\n",
    "    for other_action in range(n_actions):\n",
    "        if other_action != best_action:\n",
    "            assert abs(state_frequencies[other_action] -\n",
    "                       10000 * (eps / n_actions)) < 200\n",
    "    print('e=%.1f tests passed' % eps)"
   ]
  },
  {
   "cell_type": "markdown",
   "metadata": {},
   "source": [
    "### Q-learning via gradient descent\n",
    "\n",
    "We shall now train our agent's Q-function by minimizing the TD loss:\n",
    "$$ L = { 1 \\over N} \\sum_i (Q_{\\theta}(s,a) - [r(s,a) + \\gamma \\cdot max_{a'} Q_{-}(s', a')]) ^2 $$\n",
    "\n",
    "\n",
    "Where\n",
    "* $s, a, r, s'$ are current state, action, reward and next state respectively\n",
    "* $\\gamma$ is a discount factor defined two cells above.\n",
    "\n",
    "The tricky part is with  $Q_{-}(s',a')$. From an engineering standpoint, it's the same as $Q_{\\theta}$ - the output of your neural network policy. However, when doing gradient descent, __we won't propagate gradients through it__ to make training more stable (see lectures).\n",
    "\n",
    "To do so, we shall use `x.detach()` function which basically says \"consider this thing constant when doingbackprop\"."
   ]
  },
  {
   "cell_type": "code",
   "execution_count": 13,
   "metadata": {},
   "outputs": [],
   "source": [
    "def to_one_hot(y_tensor, n_dims=None):\n",
    "    \"\"\" helper: take an integer vector and convert it to 1-hot matrix. \"\"\"\n",
    "    y_tensor = y_tensor.type(torch.LongTensor).view(-1, 1)\n",
    "    n_dims = n_dims if n_dims is not None else int(torch.max(y_tensor)) + 1\n",
    "    y_one_hot = torch.zeros(\n",
    "        y_tensor.size()[0], n_dims).scatter_(1, y_tensor, 1)\n",
    "    return y_one_hot\n",
    "\n",
    "\n",
    "def where(cond, x_1, x_2):\n",
    "    \"\"\" helper: like np.where but in pytorch. \"\"\"\n",
    "    return (cond * x_1) + ((1-cond) * x_2)"
   ]
  },
  {
   "cell_type": "code",
   "execution_count": 30,
   "metadata": {},
   "outputs": [],
   "source": [
    "def compute_td_loss(states, actions, rewards, next_states, is_done, gamma=0.99, check_shapes=False):\n",
    "    \"\"\" Compute td loss using torch operations only. Use the formula above. \"\"\"\n",
    "    states = torch.tensor(\n",
    "        states, dtype=torch.float32)    # shape: [batch_size, state_size]\n",
    "    actions = torch.tensor(actions, dtype=torch.int32)    # shape: [batch_size]\n",
    "    rewards = torch.tensor(rewards, dtype=torch.float32)  # shape: [batch_size]\n",
    "    # shape: [batch_size, state_size]\n",
    "    next_states = torch.tensor(next_states, dtype=torch.float32)\n",
    "    is_done = torch.tensor(is_done, dtype=torch.float32)  # shape: [batch_size]\n",
    "\n",
    "    # get q-values for all actions in current states\n",
    "    predicted_qvalues = network(states)\n",
    "\n",
    "    # select q-values for chosen actions\n",
    "    predicted_qvalues_for_actions = torch.sum(\n",
    "        predicted_qvalues * to_one_hot(actions, n_actions), dim=1)\n",
    "\n",
    "    # compute q-values for all actions in next states\n",
    "    predicted_next_qvalues = network(next_states)\n",
    "\n",
    "    # compute V*(next_states) using predicted next q-values\n",
    "    next_state_values = torch.max(predicted_next_qvalues, dim=1).values\n",
    "    \n",
    "    assert next_state_values.dtype == torch.float32\n",
    "\n",
    "    # compute \"target q-values\" for loss - it's what's inside square parentheses in the above formula.\n",
    "    target_qvalues_for_actions = rewards + gamma * next_state_values\n",
    "\n",
    "    # at the last state we shall use simplified formula: Q(s,a) = r(s,a) since s' doesn't exist\n",
    "    target_qvalues_for_actions = where(\n",
    "        is_done, rewards, target_qvalues_for_actions)\n",
    "\n",
    "    # mean squared error loss to minimize\n",
    "    loss = torch.mean((predicted_qvalues_for_actions -\n",
    "                       target_qvalues_for_actions.detach()) ** 2)\n",
    "\n",
    "    if check_shapes:\n",
    "        assert predicted_next_qvalues.data.dim(\n",
    "        ) == 2, \"make sure you predicted q-values for all actions in next state\"\n",
    "        assert next_state_values.data.dim(\n",
    "        ) == 1, \"make sure you computed V(s') as maximum over just the actions axis and not all axes\"\n",
    "        assert target_qvalues_for_actions.data.dim(\n",
    "        ) == 1, \"there's something wrong with target q-values, they must be a vector\"\n",
    "\n",
    "    return loss"
   ]
  },
  {
   "cell_type": "code",
   "execution_count": 31,
   "metadata": {},
   "outputs": [],
   "source": [
    "# sanity checks\n",
    "s = env.reset()\n",
    "a = env.action_space.sample()\n",
    "next_s, r, done, _ = env.step(a)\n",
    "loss = compute_td_loss([s], [a], [r], [next_s], [done], check_shapes=True)\n",
    "loss.backward()\n",
    "\n",
    "assert len(loss.size()) == 0, \"you must return scalar loss - mean over batch\"\n",
    "assert np.any(next(network.parameters()).grad.detach().numpy() !=\n",
    "              0), \"loss must be differentiable w.r.t. network weights\""
   ]
  },
  {
   "cell_type": "markdown",
   "metadata": {},
   "source": [
    "### Playing the game"
   ]
  },
  {
   "cell_type": "code",
   "execution_count": 32,
   "metadata": {},
   "outputs": [],
   "source": [
    "opt = torch.optim.Adam(network.parameters(), lr=1e-4)\n",
    "epsilon = 0.5"
   ]
  },
  {
   "cell_type": "code",
   "execution_count": 33,
   "metadata": {},
   "outputs": [],
   "source": [
    "def generate_session(t_max=1000, epsilon=0, train=False):\n",
    "    \"\"\"play env with approximate q-learning agent and train it at the same time\"\"\"\n",
    "    total_reward = 0\n",
    "    s = env.reset()\n",
    "\n",
    "    for t in range(t_max):\n",
    "        a = get_action(s, epsilon=epsilon)\n",
    "        next_s, r, done, _ = env.step(a)\n",
    "\n",
    "        if train:\n",
    "            opt.zero_grad()\n",
    "            compute_td_loss([s], [a], [r], [next_s], [done]).backward()\n",
    "            opt.step()\n",
    "\n",
    "        total_reward += r\n",
    "        s = next_s\n",
    "        if done:\n",
    "            break\n",
    "\n",
    "    return total_reward"
   ]
  },
  {
   "cell_type": "code",
   "execution_count": 34,
   "metadata": {},
   "outputs": [
    {
     "name": "stdout",
     "output_type": "stream",
     "text": [
      "epoch #0\tmean reward = 13.290\tepsilon = 0.500\n",
      "epoch #1\tmean reward = 14.410\tepsilon = 0.495\n",
      "epoch #2\tmean reward = 13.750\tepsilon = 0.490\n",
      "epoch #3\tmean reward = 13.300\tepsilon = 0.485\n",
      "epoch #4\tmean reward = 14.300\tepsilon = 0.480\n",
      "epoch #5\tmean reward = 13.690\tepsilon = 0.475\n",
      "epoch #6\tmean reward = 14.010\tepsilon = 0.471\n",
      "epoch #7\tmean reward = 13.160\tepsilon = 0.466\n",
      "epoch #8\tmean reward = 14.700\tepsilon = 0.461\n",
      "epoch #9\tmean reward = 12.890\tepsilon = 0.457\n",
      "epoch #10\tmean reward = 12.690\tepsilon = 0.452\n",
      "epoch #11\tmean reward = 12.770\tepsilon = 0.448\n",
      "epoch #12\tmean reward = 14.020\tepsilon = 0.443\n",
      "epoch #13\tmean reward = 12.170\tepsilon = 0.439\n",
      "epoch #14\tmean reward = 12.350\tepsilon = 0.434\n",
      "epoch #15\tmean reward = 14.250\tepsilon = 0.430\n",
      "epoch #16\tmean reward = 14.020\tepsilon = 0.426\n",
      "epoch #17\tmean reward = 18.820\tepsilon = 0.421\n",
      "epoch #18\tmean reward = 16.160\tepsilon = 0.417\n",
      "epoch #19\tmean reward = 20.750\tepsilon = 0.413\n",
      "epoch #20\tmean reward = 26.850\tepsilon = 0.409\n",
      "epoch #21\tmean reward = 33.270\tepsilon = 0.405\n",
      "epoch #22\tmean reward = 34.570\tepsilon = 0.401\n",
      "epoch #23\tmean reward = 38.480\tepsilon = 0.397\n",
      "epoch #24\tmean reward = 32.610\tepsilon = 0.393\n",
      "epoch #25\tmean reward = 40.690\tepsilon = 0.389\n",
      "epoch #26\tmean reward = 43.040\tepsilon = 0.385\n",
      "epoch #27\tmean reward = 46.940\tepsilon = 0.381\n",
      "epoch #28\tmean reward = 48.950\tepsilon = 0.377\n",
      "epoch #29\tmean reward = 59.120\tepsilon = 0.374\n",
      "epoch #30\tmean reward = 47.680\tepsilon = 0.370\n",
      "epoch #31\tmean reward = 61.150\tepsilon = 0.366\n",
      "epoch #32\tmean reward = 65.840\tepsilon = 0.362\n",
      "epoch #33\tmean reward = 56.320\tepsilon = 0.359\n",
      "epoch #34\tmean reward = 57.210\tepsilon = 0.355\n",
      "epoch #35\tmean reward = 62.810\tepsilon = 0.352\n",
      "epoch #36\tmean reward = 80.630\tepsilon = 0.348\n",
      "epoch #37\tmean reward = 75.700\tepsilon = 0.345\n",
      "epoch #38\tmean reward = 88.100\tepsilon = 0.341\n",
      "epoch #39\tmean reward = 100.460\tepsilon = 0.338\n",
      "epoch #40\tmean reward = 142.040\tepsilon = 0.334\n",
      "epoch #41\tmean reward = 147.330\tepsilon = 0.331\n",
      "epoch #42\tmean reward = 143.710\tepsilon = 0.328\n",
      "epoch #43\tmean reward = 154.050\tepsilon = 0.325\n",
      "epoch #44\tmean reward = 141.910\tepsilon = 0.321\n",
      "epoch #45\tmean reward = 87.540\tepsilon = 0.318\n",
      "epoch #46\tmean reward = 100.580\tepsilon = 0.315\n",
      "epoch #47\tmean reward = 86.370\tepsilon = 0.312\n",
      "epoch #48\tmean reward = 129.440\tepsilon = 0.309\n",
      "epoch #49\tmean reward = 157.890\tepsilon = 0.306\n",
      "epoch #50\tmean reward = 150.050\tepsilon = 0.303\n",
      "epoch #51\tmean reward = 67.420\tepsilon = 0.299\n",
      "epoch #52\tmean reward = 38.190\tepsilon = 0.296\n",
      "epoch #53\tmean reward = 43.700\tepsilon = 0.294\n",
      "epoch #54\tmean reward = 104.800\tepsilon = 0.291\n",
      "epoch #55\tmean reward = 93.590\tepsilon = 0.288\n",
      "epoch #56\tmean reward = 52.770\tepsilon = 0.285\n",
      "epoch #57\tmean reward = 61.850\tepsilon = 0.282\n",
      "epoch #58\tmean reward = 52.390\tepsilon = 0.279\n",
      "epoch #59\tmean reward = 59.220\tepsilon = 0.276\n",
      "epoch #60\tmean reward = 66.000\tepsilon = 0.274\n",
      "epoch #61\tmean reward = 57.710\tepsilon = 0.271\n",
      "epoch #62\tmean reward = 58.420\tepsilon = 0.268\n",
      "epoch #63\tmean reward = 56.680\tepsilon = 0.265\n",
      "epoch #64\tmean reward = 53.000\tepsilon = 0.263\n",
      "epoch #65\tmean reward = 49.940\tepsilon = 0.260\n",
      "epoch #66\tmean reward = 63.220\tepsilon = 0.258\n",
      "epoch #67\tmean reward = 83.970\tepsilon = 0.255\n",
      "epoch #68\tmean reward = 67.410\tepsilon = 0.252\n",
      "epoch #69\tmean reward = 70.840\tepsilon = 0.250\n",
      "epoch #70\tmean reward = 158.270\tepsilon = 0.247\n",
      "epoch #71\tmean reward = 201.270\tepsilon = 0.245\n",
      "epoch #72\tmean reward = 91.170\tepsilon = 0.242\n",
      "epoch #73\tmean reward = 150.690\tepsilon = 0.240\n",
      "epoch #74\tmean reward = 52.240\tepsilon = 0.238\n",
      "epoch #75\tmean reward = 31.610\tepsilon = 0.235\n",
      "epoch #76\tmean reward = 34.890\tepsilon = 0.233\n",
      "epoch #77\tmean reward = 53.050\tepsilon = 0.231\n",
      "epoch #78\tmean reward = 136.320\tepsilon = 0.228\n",
      "epoch #79\tmean reward = 236.640\tepsilon = 0.226\n",
      "epoch #80\tmean reward = 238.070\tepsilon = 0.224\n",
      "epoch #81\tmean reward = 270.370\tepsilon = 0.222\n",
      "epoch #82\tmean reward = 314.970\tepsilon = 0.219\n",
      "You Win!\n"
     ]
    }
   ],
   "source": [
    "for i in range(1000):\n",
    "    session_rewards = [generate_session(\n",
    "        epsilon=epsilon, train=True) for _ in range(100)]\n",
    "    print(\"epoch #{}\\tmean reward = {:.3f}\\tepsilon = {:.3f}\".format(\n",
    "        i, np.mean(session_rewards), epsilon))\n",
    "\n",
    "    epsilon *= 0.99\n",
    "    assert epsilon >= 1e-4, \"Make sure epsilon is always nonzero during training\"\n",
    "\n",
    "    if np.mean(session_rewards) > 300:\n",
    "        print(\"You Win!\")\n",
    "        break"
   ]
  },
  {
   "cell_type": "markdown",
   "metadata": {},
   "source": [
    "### How to interpret results\n",
    "\n",
    "\n",
    "Welcome to the f.. world of deep f...n reinforcement learning. Don't expect agent's reward to smoothly go up. Hope for it to go increase eventually. If it deems you worthy.\n",
    "\n",
    "Seriously though,\n",
    "* __ mean reward__ is the average reward per game. For a correct implementation it may stay low for some 10 epochs, then start growing while oscilating insanely and converges by ~50-100 steps depending on the network architecture. \n",
    "* If it never reaches target score by the end of for loop, try increasing the number of hidden neurons or look at the epsilon.\n",
    "* __ epsilon__ - agent's willingness to explore. If you see that agent's already at < 0.01 epsilon before it's is at least 200, just reset it back to 0.1 - 0.5."
   ]
  },
  {
   "cell_type": "markdown",
   "metadata": {},
   "source": [
    "### Record videos\n",
    "\n",
    "As usual, we now use `gym.wrappers.Monitor` to record a video of our agent playing the game. Unlike our previous attempts with state binarization, this time we expect our agent to act ~~(or fail)~~ more smoothly since there's no more binarization error at play.\n",
    "\n",
    "As you already did with tabular q-learning, we set epsilon=0 for final evaluation to prevent agent from exploring himself to death."
   ]
  },
  {
   "cell_type": "code",
   "execution_count": 36,
   "metadata": {},
   "outputs": [],
   "source": [
    "# record sessions\n",
    "import gym.wrappers\n",
    "env = gym.wrappers.Monitor(gym.make(\"CartPole-v0\"),\n",
    "                           directory=\"videos\", force=True)\n",
    "sessions = [generate_session(epsilon=0, train=False) for _ in range(100)]\n",
    "env.close()"
   ]
  },
  {
   "cell_type": "code",
   "execution_count": 37,
   "metadata": {},
   "outputs": [
    {
     "data": {
      "text/html": [
       "\n",
       "<video width=\"640\" height=\"480\" controls>\n",
       "  <source src=\"./videos/openaigym.video.1.3990.video000001.mp4\" type=\"video/mp4\">\n",
       "</video>\n"
      ],
      "text/plain": [
       "<IPython.core.display.HTML object>"
      ]
     },
     "execution_count": 37,
     "metadata": {},
     "output_type": "execute_result"
    }
   ],
   "source": [
    "# show video\n",
    "from IPython.display import HTML\n",
    "import os\n",
    "\n",
    "video_names = list(\n",
    "    filter(lambda s: s.endswith(\".mp4\"), os.listdir(\"./videos/\")))\n",
    "\n",
    "HTML(\"\"\"\n",
    "<video width=\"640\" height=\"480\" controls>\n",
    "  <source src=\"{}\" type=\"video/mp4\">\n",
    "</video>\n",
    "\"\"\".format(\"./videos/\"+video_names[-1]))  # this may or may not be _last_ video. Try other indices"
   ]
  },
  {
   "cell_type": "code",
   "execution_count": null,
   "metadata": {},
   "outputs": [],
   "source": []
  }
 ],
 "metadata": {
  "kernelspec": {
   "display_name": "Python 3",
   "language": "python",
   "name": "python3"
  },
  "language_info": {
   "codemirror_mode": {
    "name": "ipython",
    "version": 3
   },
   "file_extension": ".py",
   "mimetype": "text/x-python",
   "name": "python",
   "nbconvert_exporter": "python",
   "pygments_lexer": "ipython3",
   "version": "3.7.4"
  }
 },
 "nbformat": 4,
 "nbformat_minor": 1
}
>>>>>>> 6d2e21f... seminar done for week04
